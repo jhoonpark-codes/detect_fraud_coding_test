{
 "cells": [
  {
   "cell_type": "markdown",
   "id": "9373f403-e2ca-4eff-9796-18bff15e6e3a",
   "metadata": {
    "tags": []
   },
   "source": [
    "# Data science assessment - Fraud data\n",
    "\n",
    "## objective\n",
    "> to buld a machine learning model that predicts the probability that the first transaction of a new user is fraudulent\n",
    "\n",
    "## details\n",
    "- 'Electronica' : e-commerce site that sells wholesale electronics\n",
    "- want to know a given transaction is fraudulent or not\n",
    "- data of user's first transaction\n",
    "- costs\n",
    "    - fail to detect fraud : Electronica loses money equivalent to the price\n",
    "    - false alert          : cost my client values 8$"
   ]
  },
  {
   "cell_type": "code",
   "execution_count": 2,
   "id": "5c0f253d-b807-40e7-b0ab-d90dcc7e147f",
   "metadata": {
    "tags": []
   },
   "outputs": [],
   "source": [
    "# python built-in libraries\n",
    "import os\n",
    "from collections import Counter\n",
    "from datetime import datetime, timedelta\n",
    "\n",
    "# python third party libraries\n",
    "import matplotlib.pyplot as plt\n",
    "import numpy as np\n",
    "import pandas as pd\n",
    "import seaborn as sns\n",
    "from sklearn.discriminant_analysis import LinearDiscriminantAnalysis\n",
    "from sklearn.ensemble import RandomForestClassifier, GradientBoostingClassifier, VotingClassifier\n",
    "from sklearn.linear_model import LogisticRegression\n",
    "from sklearn.metrics import confusion_matrix\n",
    "from sklearn.model_selection import RandomizedSearchCV, cross_val_score, train_test_split\n",
    "from sklearn.naive_bayes import GaussianNB\n",
    "from sklearn.neighbors import KNeighborsClassifier\n",
    "from sklearn.preprocessing import StandardScaler\n",
    "\n",
    "# setting\n",
    "random_state = 79"
   ]
  },
  {
   "cell_type": "markdown",
   "id": "04631725-19bb-45f1-9faf-ca83948e3834",
   "metadata": {},
   "source": [
    "## load data"
   ]
  },
  {
   "cell_type": "code",
   "execution_count": 3,
   "id": "63489ebf-b6fe-4db4-9ab0-e1bb0e99e417",
   "metadata": {
    "tags": []
   },
   "outputs": [
    {
     "data": {
      "text/plain": [
       "'/Users/nm-n2204009/Desktop/notes/novelis'"
      ]
     },
     "execution_count": 3,
     "metadata": {},
     "output_type": "execute_result"
    }
   ],
   "source": [
    "directory = os.getcwd()\n",
    "directory"
   ]
  },
  {
   "cell_type": "code",
   "execution_count": 69,
   "id": "5defa9a6-9e08-4606-bb2c-3aeb592cda87",
   "metadata": {
    "tags": []
   },
   "outputs": [
    {
     "data": {
      "text/html": [
       "<div>\n",
       "<style scoped>\n",
       "    .dataframe tbody tr th:only-of-type {\n",
       "        vertical-align: middle;\n",
       "    }\n",
       "\n",
       "    .dataframe tbody tr th {\n",
       "        vertical-align: top;\n",
       "    }\n",
       "\n",
       "    .dataframe thead th {\n",
       "        text-align: right;\n",
       "    }\n",
       "</style>\n",
       "<table border=\"1\" class=\"dataframe\">\n",
       "  <thead>\n",
       "    <tr style=\"text-align: right;\">\n",
       "      <th></th>\n",
       "      <th>user_id</th>\n",
       "      <th>signup_time</th>\n",
       "      <th>purchase_time</th>\n",
       "      <th>purchase_value</th>\n",
       "      <th>device_id</th>\n",
       "      <th>source</th>\n",
       "      <th>browser</th>\n",
       "      <th>sex</th>\n",
       "      <th>age</th>\n",
       "      <th>ip_address</th>\n",
       "      <th>class</th>\n",
       "      <th>signup_time_date</th>\n",
       "      <th>purchase_time_date</th>\n",
       "      <th>time_to_purchase</th>\n",
       "      <th>user_id_count</th>\n",
       "      <th>country</th>\n",
       "    </tr>\n",
       "  </thead>\n",
       "  <tbody>\n",
       "    <tr>\n",
       "      <th>0</th>\n",
       "      <td>285108</td>\n",
       "      <td>7/15/2015 4:36</td>\n",
       "      <td>9/10/2015 14:17</td>\n",
       "      <td>31</td>\n",
       "      <td>HZAKVUFTDOSFD</td>\n",
       "      <td>Direct</td>\n",
       "      <td>Chrome</td>\n",
       "      <td>M</td>\n",
       "      <td>49</td>\n",
       "      <td>2.818400e+09</td>\n",
       "      <td>0</td>\n",
       "      <td>2015-07-15</td>\n",
       "      <td>2015-09-10</td>\n",
       "      <td>57</td>\n",
       "      <td>2</td>\n",
       "      <td>United States</td>\n",
       "    </tr>\n",
       "    <tr>\n",
       "      <th>1</th>\n",
       "      <td>131009</td>\n",
       "      <td>1/24/2015 12:29</td>\n",
       "      <td>4/13/2015 4:53</td>\n",
       "      <td>31</td>\n",
       "      <td>XGQAJSOUJIZCC</td>\n",
       "      <td>SEO</td>\n",
       "      <td>IE</td>\n",
       "      <td>F</td>\n",
       "      <td>21</td>\n",
       "      <td>3.251268e+09</td>\n",
       "      <td>0</td>\n",
       "      <td>2015-01-24</td>\n",
       "      <td>2015-04-13</td>\n",
       "      <td>79</td>\n",
       "      <td>1</td>\n",
       "      <td>United Kingdom</td>\n",
       "    </tr>\n",
       "    <tr>\n",
       "      <th>2</th>\n",
       "      <td>328855</td>\n",
       "      <td>3/11/2015 0:54</td>\n",
       "      <td>4/5/2015 12:23</td>\n",
       "      <td>16</td>\n",
       "      <td>VCCTAYDCWKZIY</td>\n",
       "      <td>Direct</td>\n",
       "      <td>IE</td>\n",
       "      <td>M</td>\n",
       "      <td>26</td>\n",
       "      <td>2.727760e+09</td>\n",
       "      <td>0</td>\n",
       "      <td>2015-03-11</td>\n",
       "      <td>2015-04-05</td>\n",
       "      <td>25</td>\n",
       "      <td>1</td>\n",
       "      <td>United States</td>\n",
       "    </tr>\n",
       "    <tr>\n",
       "      <th>3</th>\n",
       "      <td>229053</td>\n",
       "      <td>1/7/2015 13:19</td>\n",
       "      <td>1/9/2015 10:12</td>\n",
       "      <td>29</td>\n",
       "      <td>MFFIHYNXCJLEY</td>\n",
       "      <td>SEO</td>\n",
       "      <td>Chrome</td>\n",
       "      <td>M</td>\n",
       "      <td>34</td>\n",
       "      <td>2.083420e+09</td>\n",
       "      <td>0</td>\n",
       "      <td>2015-01-07</td>\n",
       "      <td>2015-01-09</td>\n",
       "      <td>2</td>\n",
       "      <td>1</td>\n",
       "      <td>Korea Republic of</td>\n",
       "    </tr>\n",
       "    <tr>\n",
       "      <th>4</th>\n",
       "      <td>108439</td>\n",
       "      <td>2/8/2015 21:11</td>\n",
       "      <td>4/9/2015 14:26</td>\n",
       "      <td>26</td>\n",
       "      <td>WMSXWGVPNIFBM</td>\n",
       "      <td>Ads</td>\n",
       "      <td>FireFox</td>\n",
       "      <td>M</td>\n",
       "      <td>33</td>\n",
       "      <td>3.207913e+09</td>\n",
       "      <td>0</td>\n",
       "      <td>2015-02-08</td>\n",
       "      <td>2015-04-09</td>\n",
       "      <td>60</td>\n",
       "      <td>1</td>\n",
       "      <td>Brazil</td>\n",
       "    </tr>\n",
       "  </tbody>\n",
       "</table>\n",
       "</div>"
      ],
      "text/plain": [
       "   user_id      signup_time    purchase_time  purchase_value      device_id  \\\n",
       "0   285108   7/15/2015 4:36  9/10/2015 14:17              31  HZAKVUFTDOSFD   \n",
       "1   131009  1/24/2015 12:29   4/13/2015 4:53              31  XGQAJSOUJIZCC   \n",
       "2   328855   3/11/2015 0:54   4/5/2015 12:23              16  VCCTAYDCWKZIY   \n",
       "3   229053   1/7/2015 13:19   1/9/2015 10:12              29  MFFIHYNXCJLEY   \n",
       "4   108439   2/8/2015 21:11   4/9/2015 14:26              26  WMSXWGVPNIFBM   \n",
       "\n",
       "   source  browser sex  age    ip_address  class signup_time_date  \\\n",
       "0  Direct   Chrome   M   49  2.818400e+09      0       2015-07-15   \n",
       "1     SEO       IE   F   21  3.251268e+09      0       2015-01-24   \n",
       "2  Direct       IE   M   26  2.727760e+09      0       2015-03-11   \n",
       "3     SEO   Chrome   M   34  2.083420e+09      0       2015-01-07   \n",
       "4     Ads  FireFox   M   33  3.207913e+09      0       2015-02-08   \n",
       "\n",
       "  purchase_time_date  time_to_purchase  user_id_count            country  \n",
       "0         2015-09-10                57              2      United States  \n",
       "1         2015-04-13                79              1     United Kingdom  \n",
       "2         2015-04-05                25              1      United States  \n",
       "3         2015-01-09                 2              1  Korea Republic of  \n",
       "4         2015-04-09                60              1             Brazil  "
      ]
     },
     "execution_count": 69,
     "metadata": {},
     "output_type": "execute_result"
    }
   ],
   "source": [
    "fraud_data = pd.read_csv(directory + '/dataset/df_final.csv', index_col=0)\n",
    "fraud_data.head()"
   ]
  },
  {
   "cell_type": "markdown",
   "id": "37af346c-09fd-41e3-ae20-256c7675948b",
   "metadata": {},
   "source": [
    "## preprocess"
   ]
  },
  {
   "cell_type": "code",
   "execution_count": 70,
   "id": "fde910ec-00dd-4668-8a26-cdc22e92dd54",
   "metadata": {},
   "outputs": [
    {
     "name": "stdout",
     "output_type": "stream",
     "text": [
      "<class 'pandas.core.frame.DataFrame'>\n",
      "Int64Index: 120000 entries, 0 to 119999\n",
      "Data columns (total 16 columns):\n",
      " #   Column              Non-Null Count   Dtype  \n",
      "---  ------              --------------   -----  \n",
      " 0   user_id             120000 non-null  int64  \n",
      " 1   signup_time         120000 non-null  object \n",
      " 2   purchase_time       120000 non-null  object \n",
      " 3   purchase_value      120000 non-null  int64  \n",
      " 4   device_id           120000 non-null  object \n",
      " 5   source              120000 non-null  object \n",
      " 6   browser             120000 non-null  object \n",
      " 7   sex                 120000 non-null  object \n",
      " 8   age                 120000 non-null  int64  \n",
      " 9   ip_address          120000 non-null  float64\n",
      " 10  class               120000 non-null  int64  \n",
      " 11  signup_time_date    120000 non-null  object \n",
      " 12  purchase_time_date  120000 non-null  object \n",
      " 13  time_to_purchase    120000 non-null  int64  \n",
      " 14  user_id_count       120000 non-null  int64  \n",
      " 15  country             102582 non-null  object \n",
      "dtypes: float64(1), int64(6), object(9)\n",
      "memory usage: 15.6+ MB\n"
     ]
    }
   ],
   "source": [
    "fraud_data.info()"
   ]
  },
  {
   "cell_type": "markdown",
   "id": "95026167-fc7f-4824-ba45-686426717467",
   "metadata": {},
   "source": [
    "#### make month for signup"
   ]
  },
  {
   "cell_type": "code",
   "execution_count": 71,
   "id": "7e12b57d-81d2-4b06-97f0-f6db27cf1dfb",
   "metadata": {
    "tags": []
   },
   "outputs": [
    {
     "data": {
      "text/plain": [
       "'2015-07-15'"
      ]
     },
     "execution_count": 71,
     "metadata": {},
     "output_type": "execute_result"
    }
   ],
   "source": [
    "fraud_data['signup_time_date'][0]"
   ]
  },
  {
   "cell_type": "code",
   "execution_count": 72,
   "id": "a6377d23-4022-4374-9e7e-929e73377d00",
   "metadata": {
    "tags": []
   },
   "outputs": [
    {
     "data": {
      "text/plain": [
       "str"
      ]
     },
     "execution_count": 72,
     "metadata": {},
     "output_type": "execute_result"
    }
   ],
   "source": [
    "type(fraud_data['signup_time_date'][0])"
   ]
  },
  {
   "cell_type": "code",
   "execution_count": 73,
   "id": "cd247924-0819-4e38-af52-ecfb00d7cf36",
   "metadata": {
    "tags": []
   },
   "outputs": [
    {
     "data": {
      "text/plain": [
       "'07'"
      ]
     },
     "execution_count": 73,
     "metadata": {},
     "output_type": "execute_result"
    }
   ],
   "source": [
    "fraud_data['signup_time_date'][0].split('-')[1]"
   ]
  },
  {
   "cell_type": "code",
   "execution_count": 74,
   "id": "42dec232-e418-4745-b9f3-fab91a478c1a",
   "metadata": {
    "tags": []
   },
   "outputs": [
    {
     "data": {
      "text/plain": [
       "0         09\n",
       "1         04\n",
       "2         04\n",
       "3         01\n",
       "4         04\n",
       "          ..\n",
       "119995    04\n",
       "119996    08\n",
       "119997    09\n",
       "119998    06\n",
       "119999    09\n",
       "Name: purchase_month, Length: 120000, dtype: object"
      ]
     },
     "execution_count": 74,
     "metadata": {},
     "output_type": "execute_result"
    }
   ],
   "source": [
    "fraud_data['purchase_month'] = fraud_data['purchase_time_date'].map(lambda x : x.split('-')[1])\n",
    "fraud_data['purchase_month']"
   ]
  },
  {
   "cell_type": "code",
   "execution_count": 75,
   "id": "501a1c53-f83a-4086-95dd-95f7e12c23f0",
   "metadata": {
    "tags": []
   },
   "outputs": [
    {
     "data": {
      "text/plain": [
       "0         07\n",
       "1         01\n",
       "2         03\n",
       "3         01\n",
       "4         02\n",
       "          ..\n",
       "119995    02\n",
       "119996    08\n",
       "119997    07\n",
       "119998    04\n",
       "119999    07\n",
       "Name: signup_month, Length: 120000, dtype: object"
      ]
     },
     "execution_count": 75,
     "metadata": {},
     "output_type": "execute_result"
    }
   ],
   "source": [
    "fraud_data['signup_month'] = fraud_data['signup_time_date'].map(lambda x : x.split('-')[1])\n",
    "fraud_data['signup_month']"
   ]
  },
  {
   "cell_type": "markdown",
   "id": "d0b41bc2-8627-406a-83dd-2e5f91ea3262",
   "metadata": {},
   "source": [
    "### make dummy data"
   ]
  },
  {
   "cell_type": "code",
   "execution_count": 76,
   "id": "1b7807bc-42c0-4b60-bf00-ecc76cc395ac",
   "metadata": {
    "tags": []
   },
   "outputs": [
    {
     "data": {
      "text/html": [
       "<div>\n",
       "<style scoped>\n",
       "    .dataframe tbody tr th:only-of-type {\n",
       "        vertical-align: middle;\n",
       "    }\n",
       "\n",
       "    .dataframe tbody tr th {\n",
       "        vertical-align: top;\n",
       "    }\n",
       "\n",
       "    .dataframe thead th {\n",
       "        text-align: right;\n",
       "    }\n",
       "</style>\n",
       "<table border=\"1\" class=\"dataframe\">\n",
       "  <thead>\n",
       "    <tr style=\"text-align: right;\">\n",
       "      <th></th>\n",
       "      <th>user_id</th>\n",
       "      <th>signup_time</th>\n",
       "      <th>purchase_time</th>\n",
       "      <th>purchase_value</th>\n",
       "      <th>device_id</th>\n",
       "      <th>age</th>\n",
       "      <th>ip_address</th>\n",
       "      <th>class</th>\n",
       "      <th>signup_time_date</th>\n",
       "      <th>purchase_time_date</th>\n",
       "      <th>...</th>\n",
       "      <th>purchase_09</th>\n",
       "      <th>purchase_10</th>\n",
       "      <th>purchase_11</th>\n",
       "      <th>purchase_12</th>\n",
       "      <th>Direct</th>\n",
       "      <th>SEO</th>\n",
       "      <th>FireFox</th>\n",
       "      <th>IE</th>\n",
       "      <th>Opera</th>\n",
       "      <th>Safari</th>\n",
       "    </tr>\n",
       "  </thead>\n",
       "  <tbody>\n",
       "    <tr>\n",
       "      <th>0</th>\n",
       "      <td>285108</td>\n",
       "      <td>7/15/2015 4:36</td>\n",
       "      <td>9/10/2015 14:17</td>\n",
       "      <td>31</td>\n",
       "      <td>HZAKVUFTDOSFD</td>\n",
       "      <td>49</td>\n",
       "      <td>2.818400e+09</td>\n",
       "      <td>0</td>\n",
       "      <td>2015-07-15</td>\n",
       "      <td>2015-09-10</td>\n",
       "      <td>...</td>\n",
       "      <td>1</td>\n",
       "      <td>0</td>\n",
       "      <td>0</td>\n",
       "      <td>0</td>\n",
       "      <td>1</td>\n",
       "      <td>0</td>\n",
       "      <td>0</td>\n",
       "      <td>0</td>\n",
       "      <td>0</td>\n",
       "      <td>0</td>\n",
       "    </tr>\n",
       "    <tr>\n",
       "      <th>1</th>\n",
       "      <td>131009</td>\n",
       "      <td>1/24/2015 12:29</td>\n",
       "      <td>4/13/2015 4:53</td>\n",
       "      <td>31</td>\n",
       "      <td>XGQAJSOUJIZCC</td>\n",
       "      <td>21</td>\n",
       "      <td>3.251268e+09</td>\n",
       "      <td>0</td>\n",
       "      <td>2015-01-24</td>\n",
       "      <td>2015-04-13</td>\n",
       "      <td>...</td>\n",
       "      <td>0</td>\n",
       "      <td>0</td>\n",
       "      <td>0</td>\n",
       "      <td>0</td>\n",
       "      <td>0</td>\n",
       "      <td>1</td>\n",
       "      <td>0</td>\n",
       "      <td>1</td>\n",
       "      <td>0</td>\n",
       "      <td>0</td>\n",
       "    </tr>\n",
       "    <tr>\n",
       "      <th>2</th>\n",
       "      <td>328855</td>\n",
       "      <td>3/11/2015 0:54</td>\n",
       "      <td>4/5/2015 12:23</td>\n",
       "      <td>16</td>\n",
       "      <td>VCCTAYDCWKZIY</td>\n",
       "      <td>26</td>\n",
       "      <td>2.727760e+09</td>\n",
       "      <td>0</td>\n",
       "      <td>2015-03-11</td>\n",
       "      <td>2015-04-05</td>\n",
       "      <td>...</td>\n",
       "      <td>0</td>\n",
       "      <td>0</td>\n",
       "      <td>0</td>\n",
       "      <td>0</td>\n",
       "      <td>1</td>\n",
       "      <td>0</td>\n",
       "      <td>0</td>\n",
       "      <td>1</td>\n",
       "      <td>0</td>\n",
       "      <td>0</td>\n",
       "    </tr>\n",
       "    <tr>\n",
       "      <th>3</th>\n",
       "      <td>229053</td>\n",
       "      <td>1/7/2015 13:19</td>\n",
       "      <td>1/9/2015 10:12</td>\n",
       "      <td>29</td>\n",
       "      <td>MFFIHYNXCJLEY</td>\n",
       "      <td>34</td>\n",
       "      <td>2.083420e+09</td>\n",
       "      <td>0</td>\n",
       "      <td>2015-01-07</td>\n",
       "      <td>2015-01-09</td>\n",
       "      <td>...</td>\n",
       "      <td>0</td>\n",
       "      <td>0</td>\n",
       "      <td>0</td>\n",
       "      <td>0</td>\n",
       "      <td>0</td>\n",
       "      <td>1</td>\n",
       "      <td>0</td>\n",
       "      <td>0</td>\n",
       "      <td>0</td>\n",
       "      <td>0</td>\n",
       "    </tr>\n",
       "    <tr>\n",
       "      <th>4</th>\n",
       "      <td>108439</td>\n",
       "      <td>2/8/2015 21:11</td>\n",
       "      <td>4/9/2015 14:26</td>\n",
       "      <td>26</td>\n",
       "      <td>WMSXWGVPNIFBM</td>\n",
       "      <td>33</td>\n",
       "      <td>3.207913e+09</td>\n",
       "      <td>0</td>\n",
       "      <td>2015-02-08</td>\n",
       "      <td>2015-04-09</td>\n",
       "      <td>...</td>\n",
       "      <td>0</td>\n",
       "      <td>0</td>\n",
       "      <td>0</td>\n",
       "      <td>0</td>\n",
       "      <td>0</td>\n",
       "      <td>0</td>\n",
       "      <td>1</td>\n",
       "      <td>0</td>\n",
       "      <td>0</td>\n",
       "      <td>0</td>\n",
       "    </tr>\n",
       "  </tbody>\n",
       "</table>\n",
       "<p>5 rows × 38 columns</p>\n",
       "</div>"
      ],
      "text/plain": [
       "   user_id      signup_time    purchase_time  purchase_value      device_id  \\\n",
       "0   285108   7/15/2015 4:36  9/10/2015 14:17              31  HZAKVUFTDOSFD   \n",
       "1   131009  1/24/2015 12:29   4/13/2015 4:53              31  XGQAJSOUJIZCC   \n",
       "2   328855   3/11/2015 0:54   4/5/2015 12:23              16  VCCTAYDCWKZIY   \n",
       "3   229053   1/7/2015 13:19   1/9/2015 10:12              29  MFFIHYNXCJLEY   \n",
       "4   108439   2/8/2015 21:11   4/9/2015 14:26              26  WMSXWGVPNIFBM   \n",
       "\n",
       "   age    ip_address  class signup_time_date purchase_time_date  ...  \\\n",
       "0   49  2.818400e+09      0       2015-07-15         2015-09-10  ...   \n",
       "1   21  3.251268e+09      0       2015-01-24         2015-04-13  ...   \n",
       "2   26  2.727760e+09      0       2015-03-11         2015-04-05  ...   \n",
       "3   34  2.083420e+09      0       2015-01-07         2015-01-09  ...   \n",
       "4   33  3.207913e+09      0       2015-02-08         2015-04-09  ...   \n",
       "\n",
       "   purchase_09  purchase_10 purchase_11  purchase_12  Direct  SEO  FireFox  \\\n",
       "0            1            0           0            0       1    0        0   \n",
       "1            0            0           0            0       0    1        0   \n",
       "2            0            0           0            0       1    0        0   \n",
       "3            0            0           0            0       0    1        0   \n",
       "4            0            0           0            0       0    0        1   \n",
       "\n",
       "   IE  Opera  Safari  \n",
       "0   0      0       0  \n",
       "1   1      0       0  \n",
       "2   1      0       0  \n",
       "3   0      0       0  \n",
       "4   0      0       0  \n",
       "\n",
       "[5 rows x 38 columns]"
      ]
     },
     "execution_count": 76,
     "metadata": {},
     "output_type": "execute_result"
    }
   ],
   "source": [
    "gender_dummy         = pd.get_dummies(fraud_data.sex, drop_first = True)\n",
    "signup_month_dummy   = pd.get_dummies(fraud_data.signup_month, drop_first = True, prefix = 'signup')\n",
    "purchase_month_dummy = pd.get_dummies(fraud_data.purchase_month, drop_first = True, prefix = 'purchase')\n",
    "source_dummy         = pd.get_dummies(fraud_data.source, drop_first = True)\n",
    "browser_dummy        = pd.get_dummies(fraud_data.browser, drop_first = True)\n",
    "\n",
    "fraud_data = fraud_data.drop(['sex','signup_month', 'purchase_month', 'source','browser'], axis=1)\n",
    "\n",
    "final = pd.concat([fraud_data, gender_dummy, signup_month_dummy, purchase_month_dummy, source_dummy, browser_dummy], axis=1)\n",
    "final.head()"
   ]
  },
  {
   "cell_type": "markdown",
   "id": "671f542c-e513-4efa-adde-ea9c3dec5b63",
   "metadata": {},
   "source": [
    "## selected features\n",
    "- date related features\n",
    "    - signup_time_month dummy\n",
    "    - purchase_time_month dummy\n",
    "    - time_to_purchase\n",
    "- user related feature\n",
    "    - sex dummy\n",
    "    - age\n",
    "    - browser dummy\n",
    "    - source dummy\n",
    "    - the number of user_id connected to the device id"
   ]
  },
  {
   "cell_type": "code",
   "execution_count": 77,
   "id": "5d262ab4-f47f-4ce6-9649-2cecda149838",
   "metadata": {
    "tags": []
   },
   "outputs": [
    {
     "data": {
      "text/plain": [
       "Index(['user_id', 'signup_time', 'purchase_time', 'purchase_value',\n",
       "       'device_id', 'age', 'ip_address', 'class', 'signup_time_date',\n",
       "       'purchase_time_date', 'time_to_purchase', 'user_id_count', 'country',\n",
       "       'M', 'signup_02', 'signup_03', 'signup_04', 'signup_05', 'signup_06',\n",
       "       'signup_07', 'signup_08', 'purchase_02', 'purchase_03', 'purchase_04',\n",
       "       'purchase_05', 'purchase_06', 'purchase_07', 'purchase_08',\n",
       "       'purchase_09', 'purchase_10', 'purchase_11', 'purchase_12', 'Direct',\n",
       "       'SEO', 'FireFox', 'IE', 'Opera', 'Safari'],\n",
       "      dtype='object')"
      ]
     },
     "execution_count": 77,
     "metadata": {},
     "output_type": "execute_result"
    }
   ],
   "source": [
    "final.columns"
   ]
  },
  {
   "cell_type": "code",
   "execution_count": 78,
   "id": "c2ce7a2f-fe2f-47f7-a174-973c0c648b04",
   "metadata": {
    "tags": []
   },
   "outputs": [
    {
     "data": {
      "text/plain": [
       "Index(['user_id', 'purchase_value', 'age', 'class', 'time_to_purchase',\n",
       "       'user_id_count', 'M', 'signup_02', 'signup_03', 'signup_04',\n",
       "       'signup_05', 'signup_06', 'signup_07', 'signup_08', 'purchase_02',\n",
       "       'purchase_03', 'purchase_04', 'purchase_05', 'purchase_06',\n",
       "       'purchase_07', 'purchase_08', 'purchase_09', 'purchase_10',\n",
       "       'purchase_11', 'purchase_12', 'Direct', 'SEO', 'FireFox', 'IE', 'Opera',\n",
       "       'Safari'],\n",
       "      dtype='object')"
      ]
     },
     "execution_count": 78,
     "metadata": {},
     "output_type": "execute_result"
    }
   ],
   "source": [
    "final = final.drop(['signup_time', 'purchase_time', 'device_id', 'ip_address', 'signup_time_date', 'purchase_time_date', 'country'], axis = 1)\n",
    "final.columns"
   ]
  },
  {
   "cell_type": "markdown",
   "id": "93ae06a0-53d3-4c2e-bb5d-49bc1a3b6fe7",
   "metadata": {},
   "source": [
    "## deal with highly imbalanced data\n",
    "\n",
    "- undesr sampling\n",
    "    - can be balanced but lot of informations are lost\n",
    "- over sampling\n",
    "    - can be balanced but incorrect data could be input for learning\n",
    "- In this questions...\n",
    "    - split class=0 data into 5 peaces to make 5 diffenrect dataset with same class=1 data"
   ]
  },
  {
   "cell_type": "code",
   "execution_count": 79,
   "id": "9191c03f-1471-4043-a855-c3c4af7f7dd9",
   "metadata": {
    "tags": []
   },
   "outputs": [],
   "source": [
    "final_0 = final.loc[final['class'] == 0,]\n",
    "final_1 = final.loc[final['class'] == 1,]"
   ]
  },
  {
   "cell_type": "code",
   "execution_count": 80,
   "id": "d28da5b4-0dc3-4545-b1bf-ca23fed142d4",
   "metadata": {
    "tags": []
   },
   "outputs": [
    {
     "data": {
      "text/html": [
       "<div>\n",
       "<style scoped>\n",
       "    .dataframe tbody tr th:only-of-type {\n",
       "        vertical-align: middle;\n",
       "    }\n",
       "\n",
       "    .dataframe tbody tr th {\n",
       "        vertical-align: top;\n",
       "    }\n",
       "\n",
       "    .dataframe thead th {\n",
       "        text-align: right;\n",
       "    }\n",
       "</style>\n",
       "<table border=\"1\" class=\"dataframe\">\n",
       "  <thead>\n",
       "    <tr style=\"text-align: right;\">\n",
       "      <th></th>\n",
       "      <th>user_id</th>\n",
       "      <th>purchase_value</th>\n",
       "      <th>age</th>\n",
       "      <th>class</th>\n",
       "      <th>time_to_purchase</th>\n",
       "      <th>user_id_count</th>\n",
       "      <th>M</th>\n",
       "      <th>signup_02</th>\n",
       "      <th>signup_03</th>\n",
       "      <th>signup_04</th>\n",
       "      <th>...</th>\n",
       "      <th>purchase_09</th>\n",
       "      <th>purchase_10</th>\n",
       "      <th>purchase_11</th>\n",
       "      <th>purchase_12</th>\n",
       "      <th>Direct</th>\n",
       "      <th>SEO</th>\n",
       "      <th>FireFox</th>\n",
       "      <th>IE</th>\n",
       "      <th>Opera</th>\n",
       "      <th>Safari</th>\n",
       "    </tr>\n",
       "  </thead>\n",
       "  <tbody>\n",
       "    <tr>\n",
       "      <th>0</th>\n",
       "      <td>296415</td>\n",
       "      <td>40</td>\n",
       "      <td>37</td>\n",
       "      <td>0</td>\n",
       "      <td>65</td>\n",
       "      <td>1</td>\n",
       "      <td>1</td>\n",
       "      <td>1</td>\n",
       "      <td>0</td>\n",
       "      <td>0</td>\n",
       "      <td>...</td>\n",
       "      <td>0</td>\n",
       "      <td>0</td>\n",
       "      <td>0</td>\n",
       "      <td>0</td>\n",
       "      <td>0</td>\n",
       "      <td>1</td>\n",
       "      <td>1</td>\n",
       "      <td>0</td>\n",
       "      <td>0</td>\n",
       "      <td>0</td>\n",
       "    </tr>\n",
       "    <tr>\n",
       "      <th>1</th>\n",
       "      <td>20148</td>\n",
       "      <td>24</td>\n",
       "      <td>29</td>\n",
       "      <td>0</td>\n",
       "      <td>70</td>\n",
       "      <td>1</td>\n",
       "      <td>0</td>\n",
       "      <td>0</td>\n",
       "      <td>0</td>\n",
       "      <td>1</td>\n",
       "      <td>...</td>\n",
       "      <td>0</td>\n",
       "      <td>0</td>\n",
       "      <td>0</td>\n",
       "      <td>0</td>\n",
       "      <td>1</td>\n",
       "      <td>0</td>\n",
       "      <td>0</td>\n",
       "      <td>0</td>\n",
       "      <td>0</td>\n",
       "      <td>0</td>\n",
       "    </tr>\n",
       "    <tr>\n",
       "      <th>2</th>\n",
       "      <td>302402</td>\n",
       "      <td>83</td>\n",
       "      <td>20</td>\n",
       "      <td>0</td>\n",
       "      <td>50</td>\n",
       "      <td>1</td>\n",
       "      <td>0</td>\n",
       "      <td>0</td>\n",
       "      <td>0</td>\n",
       "      <td>0</td>\n",
       "      <td>...</td>\n",
       "      <td>0</td>\n",
       "      <td>0</td>\n",
       "      <td>0</td>\n",
       "      <td>0</td>\n",
       "      <td>0</td>\n",
       "      <td>1</td>\n",
       "      <td>0</td>\n",
       "      <td>0</td>\n",
       "      <td>0</td>\n",
       "      <td>0</td>\n",
       "    </tr>\n",
       "    <tr>\n",
       "      <th>3</th>\n",
       "      <td>12759</td>\n",
       "      <td>30</td>\n",
       "      <td>26</td>\n",
       "      <td>0</td>\n",
       "      <td>33</td>\n",
       "      <td>1</td>\n",
       "      <td>1</td>\n",
       "      <td>0</td>\n",
       "      <td>0</td>\n",
       "      <td>0</td>\n",
       "      <td>...</td>\n",
       "      <td>0</td>\n",
       "      <td>0</td>\n",
       "      <td>0</td>\n",
       "      <td>0</td>\n",
       "      <td>0</td>\n",
       "      <td>1</td>\n",
       "      <td>0</td>\n",
       "      <td>0</td>\n",
       "      <td>0</td>\n",
       "      <td>0</td>\n",
       "    </tr>\n",
       "    <tr>\n",
       "      <th>4</th>\n",
       "      <td>209772</td>\n",
       "      <td>35</td>\n",
       "      <td>29</td>\n",
       "      <td>0</td>\n",
       "      <td>48</td>\n",
       "      <td>1</td>\n",
       "      <td>1</td>\n",
       "      <td>0</td>\n",
       "      <td>0</td>\n",
       "      <td>0</td>\n",
       "      <td>...</td>\n",
       "      <td>0</td>\n",
       "      <td>0</td>\n",
       "      <td>0</td>\n",
       "      <td>0</td>\n",
       "      <td>0</td>\n",
       "      <td>1</td>\n",
       "      <td>0</td>\n",
       "      <td>1</td>\n",
       "      <td>0</td>\n",
       "      <td>0</td>\n",
       "    </tr>\n",
       "    <tr>\n",
       "      <th>...</th>\n",
       "      <td>...</td>\n",
       "      <td>...</td>\n",
       "      <td>...</td>\n",
       "      <td>...</td>\n",
       "      <td>...</td>\n",
       "      <td>...</td>\n",
       "      <td>...</td>\n",
       "      <td>...</td>\n",
       "      <td>...</td>\n",
       "      <td>...</td>\n",
       "      <td>...</td>\n",
       "      <td>...</td>\n",
       "      <td>...</td>\n",
       "      <td>...</td>\n",
       "      <td>...</td>\n",
       "      <td>...</td>\n",
       "      <td>...</td>\n",
       "      <td>...</td>\n",
       "      <td>...</td>\n",
       "      <td>...</td>\n",
       "      <td>...</td>\n",
       "    </tr>\n",
       "    <tr>\n",
       "      <th>108730</th>\n",
       "      <td>61042</td>\n",
       "      <td>34</td>\n",
       "      <td>59</td>\n",
       "      <td>0</td>\n",
       "      <td>34</td>\n",
       "      <td>1</td>\n",
       "      <td>1</td>\n",
       "      <td>0</td>\n",
       "      <td>0</td>\n",
       "      <td>1</td>\n",
       "      <td>...</td>\n",
       "      <td>0</td>\n",
       "      <td>0</td>\n",
       "      <td>0</td>\n",
       "      <td>0</td>\n",
       "      <td>1</td>\n",
       "      <td>0</td>\n",
       "      <td>0</td>\n",
       "      <td>1</td>\n",
       "      <td>0</td>\n",
       "      <td>0</td>\n",
       "    </tr>\n",
       "    <tr>\n",
       "      <th>108731</th>\n",
       "      <td>578</td>\n",
       "      <td>21</td>\n",
       "      <td>25</td>\n",
       "      <td>0</td>\n",
       "      <td>36</td>\n",
       "      <td>1</td>\n",
       "      <td>1</td>\n",
       "      <td>0</td>\n",
       "      <td>0</td>\n",
       "      <td>0</td>\n",
       "      <td>...</td>\n",
       "      <td>1</td>\n",
       "      <td>0</td>\n",
       "      <td>0</td>\n",
       "      <td>0</td>\n",
       "      <td>0</td>\n",
       "      <td>1</td>\n",
       "      <td>0</td>\n",
       "      <td>0</td>\n",
       "      <td>0</td>\n",
       "      <td>0</td>\n",
       "    </tr>\n",
       "    <tr>\n",
       "      <th>108732</th>\n",
       "      <td>113438</td>\n",
       "      <td>25</td>\n",
       "      <td>28</td>\n",
       "      <td>0</td>\n",
       "      <td>9</td>\n",
       "      <td>1</td>\n",
       "      <td>0</td>\n",
       "      <td>0</td>\n",
       "      <td>0</td>\n",
       "      <td>0</td>\n",
       "      <td>...</td>\n",
       "      <td>0</td>\n",
       "      <td>0</td>\n",
       "      <td>0</td>\n",
       "      <td>0</td>\n",
       "      <td>0</td>\n",
       "      <td>0</td>\n",
       "      <td>0</td>\n",
       "      <td>0</td>\n",
       "      <td>0</td>\n",
       "      <td>0</td>\n",
       "    </tr>\n",
       "    <tr>\n",
       "      <th>108733</th>\n",
       "      <td>237955</td>\n",
       "      <td>37</td>\n",
       "      <td>26</td>\n",
       "      <td>0</td>\n",
       "      <td>88</td>\n",
       "      <td>1</td>\n",
       "      <td>1</td>\n",
       "      <td>1</td>\n",
       "      <td>0</td>\n",
       "      <td>0</td>\n",
       "      <td>...</td>\n",
       "      <td>0</td>\n",
       "      <td>0</td>\n",
       "      <td>0</td>\n",
       "      <td>0</td>\n",
       "      <td>0</td>\n",
       "      <td>1</td>\n",
       "      <td>0</td>\n",
       "      <td>1</td>\n",
       "      <td>0</td>\n",
       "      <td>0</td>\n",
       "    </tr>\n",
       "    <tr>\n",
       "      <th>108734</th>\n",
       "      <td>68983</td>\n",
       "      <td>45</td>\n",
       "      <td>43</td>\n",
       "      <td>0</td>\n",
       "      <td>117</td>\n",
       "      <td>1</td>\n",
       "      <td>0</td>\n",
       "      <td>0</td>\n",
       "      <td>0</td>\n",
       "      <td>0</td>\n",
       "      <td>...</td>\n",
       "      <td>0</td>\n",
       "      <td>1</td>\n",
       "      <td>0</td>\n",
       "      <td>0</td>\n",
       "      <td>1</td>\n",
       "      <td>0</td>\n",
       "      <td>0</td>\n",
       "      <td>0</td>\n",
       "      <td>0</td>\n",
       "      <td>1</td>\n",
       "    </tr>\n",
       "  </tbody>\n",
       "</table>\n",
       "<p>108735 rows × 31 columns</p>\n",
       "</div>"
      ],
      "text/plain": [
       "        user_id  purchase_value  age  class  time_to_purchase  user_id_count  \\\n",
       "0        296415              40   37      0                65              1   \n",
       "1         20148              24   29      0                70              1   \n",
       "2        302402              83   20      0                50              1   \n",
       "3         12759              30   26      0                33              1   \n",
       "4        209772              35   29      0                48              1   \n",
       "...         ...             ...  ...    ...               ...            ...   \n",
       "108730    61042              34   59      0                34              1   \n",
       "108731      578              21   25      0                36              1   \n",
       "108732   113438              25   28      0                 9              1   \n",
       "108733   237955              37   26      0                88              1   \n",
       "108734    68983              45   43      0               117              1   \n",
       "\n",
       "        M  signup_02  signup_03  signup_04  ...  purchase_09  purchase_10  \\\n",
       "0       1          1          0          0  ...            0            0   \n",
       "1       0          0          0          1  ...            0            0   \n",
       "2       0          0          0          0  ...            0            0   \n",
       "3       1          0          0          0  ...            0            0   \n",
       "4       1          0          0          0  ...            0            0   \n",
       "...    ..        ...        ...        ...  ...          ...          ...   \n",
       "108730  1          0          0          1  ...            0            0   \n",
       "108731  1          0          0          0  ...            1            0   \n",
       "108732  0          0          0          0  ...            0            0   \n",
       "108733  1          1          0          0  ...            0            0   \n",
       "108734  0          0          0          0  ...            0            1   \n",
       "\n",
       "        purchase_11  purchase_12  Direct  SEO  FireFox  IE  Opera  Safari  \n",
       "0                 0            0       0    1        1   0      0       0  \n",
       "1                 0            0       1    0        0   0      0       0  \n",
       "2                 0            0       0    1        0   0      0       0  \n",
       "3                 0            0       0    1        0   0      0       0  \n",
       "4                 0            0       0    1        0   1      0       0  \n",
       "...             ...          ...     ...  ...      ...  ..    ...     ...  \n",
       "108730            0            0       1    0        0   1      0       0  \n",
       "108731            0            0       0    1        0   0      0       0  \n",
       "108732            0            0       0    0        0   0      0       0  \n",
       "108733            0            0       0    1        0   1      0       0  \n",
       "108734            0            0       1    0        0   0      0       1  \n",
       "\n",
       "[108735 rows x 31 columns]"
      ]
     },
     "execution_count": 80,
     "metadata": {},
     "output_type": "execute_result"
    }
   ],
   "source": [
    "final_0 = final_0.sample(frac=1).reset_index(drop=True)\n",
    "final_0"
   ]
  },
  {
   "cell_type": "code",
   "execution_count": 81,
   "id": "5804ed88-4253-4bd6-b8e4-ae6cd1288829",
   "metadata": {
    "tags": []
   },
   "outputs": [
    {
     "data": {
      "text/plain": [
       "21747"
      ]
     },
     "execution_count": 81,
     "metadata": {},
     "output_type": "execute_result"
    }
   ],
   "source": [
    "flag = len(final_0)//5\n",
    "flag"
   ]
  },
  {
   "cell_type": "code",
   "execution_count": 82,
   "id": "aa956873-e6b6-4f91-8178-da5d9a5fca16",
   "metadata": {
    "tags": []
   },
   "outputs": [],
   "source": [
    "final_0_1 = final_0.iloc[:flag,:]\n",
    "final_0_2 = final_0.iloc[flag   : flag*2,:]\n",
    "final_0_3 = final_0.iloc[flag*2 : flag*3,:]\n",
    "final_0_4 = final_0.iloc[flag*3 : flag*4,:]\n",
    "final_0_5 = final_0.iloc[flag*4 : :]"
   ]
  },
  {
   "cell_type": "code",
   "execution_count": 83,
   "id": "00a2986e-cd56-4706-bb66-049cb44b3fe2",
   "metadata": {
    "tags": []
   },
   "outputs": [],
   "source": [
    "final__1 = pd.concat([final_0_1, final_1], axis=0).sample(frac=1).reset_index(drop=True)\n",
    "final__2 = pd.concat([final_0_2, final_1], axis=0).sample(frac=1).reset_index(drop=True)\n",
    "final__3 = pd.concat([final_0_3, final_1], axis=0).sample(frac=1).reset_index(drop=True)\n",
    "final__4 = pd.concat([final_0_4, final_1], axis=0).sample(frac=1).reset_index(drop=True)\n",
    "final__5 = pd.concat([final_0_5, final_1], axis=0).sample(frac=1).reset_index(drop=True)"
   ]
  },
  {
   "cell_type": "markdown",
   "id": "272cbd6f-ab94-4114-872f-bbbe3fb73649",
   "metadata": {},
   "source": [
    "## test"
   ]
  },
  {
   "cell_type": "code",
   "execution_count": 84,
   "id": "72071300-459d-49ba-822e-e695b2482f70",
   "metadata": {
    "tags": []
   },
   "outputs": [],
   "source": [
    "X = final__1.drop(['user_id','class'], axis = 1)\n",
    "y = final__1['class']"
   ]
  },
  {
   "cell_type": "code",
   "execution_count": 85,
   "id": "d4ee190b-16c1-47ca-a365-afa3fdeb52f4",
   "metadata": {
    "tags": []
   },
   "outputs": [],
   "source": [
    "X_train, X_test, y_train, y_test = train_test_split(X, y, test_size=0.2, random_state=random_state)"
   ]
  },
  {
   "cell_type": "code",
   "execution_count": 86,
   "id": "2336e9ea-3534-46c7-8799-e17f01a9fd7d",
   "metadata": {
    "tags": []
   },
   "outputs": [],
   "source": [
    "scaler = StandardScaler()\n",
    "\n",
    "X_train_scaled = scaler.fit_transform(X_train)\n",
    "X_test_scaled = scaler.transform(X_test)"
   ]
  },
  {
   "cell_type": "code",
   "execution_count": 91,
   "id": "37bbd579-47ab-4d7f-8c4d-86f38bc2f3b6",
   "metadata": {
    "tags": []
   },
   "outputs": [
    {
     "name": "stdout",
     "output_type": "stream",
     "text": [
      "Fitting 3 folds for each of 25 candidates, totalling 75 fits\n",
      "[CV 1/3] END max_depth=5, max_features=0.7000000000000001, n_estimators=200;, score=0.765 total time=   1.9s\n",
      "[CV 2/3] END max_depth=5, max_features=0.7000000000000001, n_estimators=200;, score=0.761 total time=   1.8s\n",
      "[CV 3/3] END max_depth=5, max_features=0.7000000000000001, n_estimators=200;, score=0.766 total time=   1.8s\n",
      "[CV 1/3] END max_depth=10, max_features=0.6, n_estimators=200;, score=0.762 total time=   2.6s\n",
      "[CV 2/3] END max_depth=10, max_features=0.6, n_estimators=200;, score=0.756 total time=   2.6s\n",
      "[CV 3/3] END max_depth=10, max_features=0.6, n_estimators=200;, score=0.763 total time=   2.6s\n",
      "[CV 1/3] END max_depth=10, max_features=0.1, n_estimators=200;, score=0.702 total time=   0.9s\n",
      "[CV 2/3] END max_depth=10, max_features=0.1, n_estimators=200;, score=0.703 total time=   0.9s\n",
      "[CV 3/3] END max_depth=10, max_features=0.1, n_estimators=200;, score=0.724 total time=   0.9s\n",
      "[CV 1/3] END max_depth=5, max_features=0.30000000000000004, n_estimators=100;, score=0.750 total time=   0.5s\n",
      "[CV 2/3] END max_depth=5, max_features=0.30000000000000004, n_estimators=100;, score=0.725 total time=   0.5s\n",
      "[CV 3/3] END max_depth=5, max_features=0.30000000000000004, n_estimators=100;, score=0.762 total time=   0.5s\n",
      "[CV 1/3] END max_depth=10, max_features=0.1, n_estimators=100;, score=0.705 total time=   0.4s\n",
      "[CV 2/3] END max_depth=10, max_features=0.1, n_estimators=100;, score=0.693 total time=   0.4s\n",
      "[CV 3/3] END max_depth=10, max_features=0.1, n_estimators=100;, score=0.720 total time=   0.4s\n",
      "[CV 1/3] END max_depth=10, max_features=0.8, n_estimators=300;, score=0.757 total time=   4.9s\n",
      "[CV 2/3] END max_depth=10, max_features=0.8, n_estimators=300;, score=0.753 total time=   4.9s\n",
      "[CV 3/3] END max_depth=10, max_features=0.8, n_estimators=300;, score=0.762 total time=   4.9s\n",
      "[CV 1/3] END max_depth=10, max_features=0.5, n_estimators=300;, score=0.761 total time=   3.3s\n",
      "[CV 2/3] END max_depth=10, max_features=0.5, n_estimators=300;, score=0.757 total time=   3.3s\n",
      "[CV 3/3] END max_depth=10, max_features=0.5, n_estimators=300;, score=0.763 total time=   3.3s\n",
      "[CV 1/3] END max_depth=5, max_features=0.2, n_estimators=400;, score=0.707 total time=   1.6s\n",
      "[CV 2/3] END max_depth=5, max_features=0.2, n_estimators=400;, score=0.707 total time=   1.5s\n",
      "[CV 3/3] END max_depth=5, max_features=0.2, n_estimators=400;, score=0.721 total time=   1.6s\n",
      "[CV 1/3] END max_depth=10, max_features=0.6, n_estimators=400;, score=0.760 total time=   5.2s\n",
      "[CV 2/3] END max_depth=10, max_features=0.6, n_estimators=400;, score=0.756 total time=   5.3s\n",
      "[CV 3/3] END max_depth=10, max_features=0.6, n_estimators=400;, score=0.763 total time=   5.3s\n",
      "[CV 1/3] END max_depth=10, max_features=0.6, n_estimators=100;, score=0.762 total time=   1.3s\n",
      "[CV 2/3] END max_depth=10, max_features=0.6, n_estimators=100;, score=0.756 total time=   1.3s\n",
      "[CV 3/3] END max_depth=10, max_features=0.6, n_estimators=100;, score=0.765 total time=   1.3s\n",
      "[CV 1/3] END max_depth=5, max_features=0.8, n_estimators=300;, score=0.764 total time=   2.9s\n",
      "[CV 2/3] END max_depth=5, max_features=0.8, n_estimators=300;, score=0.762 total time=   2.9s\n",
      "[CV 3/3] END max_depth=5, max_features=0.8, n_estimators=300;, score=0.766 total time=   2.8s\n",
      "[CV 1/3] END max_depth=5, max_features=0.6, n_estimators=200;, score=0.764 total time=   1.5s\n",
      "[CV 2/3] END max_depth=5, max_features=0.6, n_estimators=200;, score=0.763 total time=   1.5s\n",
      "[CV 3/3] END max_depth=5, max_features=0.6, n_estimators=200;, score=0.766 total time=   1.5s\n",
      "[CV 1/3] END max_depth=10, max_features=0.7000000000000001, n_estimators=200;, score=0.760 total time=   2.9s\n",
      "[CV 2/3] END max_depth=10, max_features=0.7000000000000001, n_estimators=200;, score=0.755 total time=   2.9s\n",
      "[CV 3/3] END max_depth=10, max_features=0.7000000000000001, n_estimators=200;, score=0.762 total time=   2.9s\n",
      "[CV 1/3] END max_depth=5, max_features=0.4, n_estimators=300;, score=0.765 total time=   1.7s\n",
      "[CV 2/3] END max_depth=5, max_features=0.4, n_estimators=300;, score=0.762 total time=   1.8s\n",
      "[CV 3/3] END max_depth=5, max_features=0.4, n_estimators=300;, score=0.767 total time=   1.7s\n",
      "[CV 1/3] END max_depth=5, max_features=0.2, n_estimators=100;, score=0.742 total time=   0.4s\n",
      "[CV 2/3] END max_depth=5, max_features=0.2, n_estimators=100;, score=0.716 total time=   0.4s\n",
      "[CV 3/3] END max_depth=5, max_features=0.2, n_estimators=100;, score=0.724 total time=   0.4s\n",
      "[CV 1/3] END max_depth=10, max_features=0.2, n_estimators=200;, score=0.752 total time=   1.2s\n",
      "[CV 2/3] END max_depth=10, max_features=0.2, n_estimators=200;, score=0.745 total time=   1.2s\n",
      "[CV 3/3] END max_depth=10, max_features=0.2, n_estimators=200;, score=0.755 total time=   1.2s\n",
      "[CV 1/3] END max_depth=10, max_features=0.7000000000000001, n_estimators=100;, score=0.759 total time=   1.5s\n",
      "[CV 2/3] END max_depth=10, max_features=0.7000000000000001, n_estimators=100;, score=0.755 total time=   1.5s\n",
      "[CV 3/3] END max_depth=10, max_features=0.7000000000000001, n_estimators=100;, score=0.763 total time=   1.5s\n",
      "[CV 1/3] END max_depth=5, max_features=0.7000000000000001, n_estimators=400;, score=0.764 total time=   3.5s\n",
      "[CV 2/3] END max_depth=5, max_features=0.7000000000000001, n_estimators=400;, score=0.762 total time=   3.4s\n",
      "[CV 3/3] END max_depth=5, max_features=0.7000000000000001, n_estimators=400;, score=0.766 total time=   3.4s\n",
      "[CV 1/3] END max_depth=5, max_features=0.2, n_estimators=200;, score=0.721 total time=   0.8s\n",
      "[CV 2/3] END max_depth=5, max_features=0.2, n_estimators=200;, score=0.696 total time=   0.8s\n",
      "[CV 3/3] END max_depth=5, max_features=0.2, n_estimators=200;, score=0.730 total time=   0.8s\n",
      "[CV 1/3] END max_depth=5, max_features=0.5, n_estimators=100;, score=0.766 total time=   0.7s\n",
      "[CV 2/3] END max_depth=5, max_features=0.5, n_estimators=100;, score=0.761 total time=   0.7s\n",
      "[CV 3/3] END max_depth=5, max_features=0.5, n_estimators=100;, score=0.767 total time=   0.7s\n",
      "[CV 1/3] END max_depth=10, max_features=0.7000000000000001, n_estimators=300;, score=0.759 total time=   4.4s\n",
      "[CV 2/3] END max_depth=10, max_features=0.7000000000000001, n_estimators=300;, score=0.756 total time=   4.4s\n",
      "[CV 3/3] END max_depth=10, max_features=0.7000000000000001, n_estimators=300;, score=0.763 total time=   4.4s\n",
      "[CV 1/3] END max_depth=10, max_features=0.7000000000000001, n_estimators=400;, score=0.760 total time=   6.3s\n",
      "[CV 2/3] END max_depth=10, max_features=0.7000000000000001, n_estimators=400;, score=0.754 total time=   6.0s\n",
      "[CV 3/3] END max_depth=10, max_features=0.7000000000000001, n_estimators=400;, score=0.761 total time=   5.8s\n",
      "[CV 1/3] END max_depth=10, max_features=0.1, n_estimators=300;, score=0.717 total time=   1.2s\n",
      "[CV 2/3] END max_depth=10, max_features=0.1, n_estimators=300;, score=0.699 total time=   1.2s\n",
      "[CV 3/3] END max_depth=10, max_features=0.1, n_estimators=300;, score=0.721 total time=   1.2s\n",
      "[CV 1/3] END max_depth=10, max_features=0.4, n_estimators=100;, score=0.762 total time=   0.9s\n",
      "[CV 2/3] END max_depth=10, max_features=0.4, n_estimators=100;, score=0.756 total time=   0.9s\n",
      "[CV 3/3] END max_depth=10, max_features=0.4, n_estimators=100;, score=0.764 total time=   0.9s\n",
      "[CV 1/3] END max_depth=10, max_features=0.30000000000000004, n_estimators=400;, score=0.761 total time=   3.2s\n",
      "[CV 2/3] END max_depth=10, max_features=0.30000000000000004, n_estimators=400;, score=0.755 total time=   3.2s\n",
      "[CV 3/3] END max_depth=10, max_features=0.30000000000000004, n_estimators=400;, score=0.763 total time=   3.2s\n",
      "Random forest CV score\n",
      "[0.7630094  0.7727985  0.76313306 0.75103339 0.77536915]\n"
     ]
    }
   ],
   "source": [
    "rf = RandomForestClassifier()\n",
    "\n",
    "param_grid = {\n",
    "    'n_estimators': range(100, 500, 100),\n",
    "    'max_depth': range(5, 15, 5),\n",
    "    'max_features': np.arange(0.1, 0.9, 0.1)\n",
    "}\n",
    "cv = RandomizedSearchCV(\n",
    "    rf,\n",
    "    param_grid,\n",
    "    n_iter = 25,\n",
    "    cv = 3,\n",
    "    scoring='f1',\n",
    "    random_state = random_state,\n",
    "    verbose = 5\n",
    ")\n",
    "cv.fit(X_train_scaled, y_train)\n",
    "\n",
    "rf_best = cv.best_estimator_\n",
    "\n",
    "print('Random forest CV score')\n",
    "print(cross_val_score(rf_best, X_train_scaled, y_train, scoring='f1', cv=5))"
   ]
  },
  {
   "cell_type": "code",
   "execution_count": 92,
   "id": "ab3ead9a-7f22-488d-8fcf-12b2cb84b66d",
   "metadata": {
    "tags": []
   },
   "outputs": [
    {
     "data": {
      "image/png": "[encoded data removed]",
      "text/plain": [
       "<Figure size 640x480 with 1 Axes>"
      ]
     },
     "metadata": {},
     "output_type": "display_data"
    }
   ],
   "source": [
    "imp = pd.Series(rf_best.feature_importances_,\n",
    "                index = X_train.columns)\n",
    "top15 = imp.sort_values(ascending=False)[:15]\n",
    "\n",
    "sns.barplot(x=top15, y=top15.index)\n",
    "plt.show()"
   ]
  },
  {
   "cell_type": "code",
   "execution_count": 89,
   "id": "df1d88da-d450-41c1-b787-05c385d98fb4",
   "metadata": {
    "tags": []
   },
   "outputs": [
    {
     "data": {
      "text/plain": [
       "0.6587604507451835"
      ]
     },
     "execution_count": 89,
     "metadata": {},
     "output_type": "execute_result"
    }
   ],
   "source": [
    "Counter(final__1['class'])[0]/len(final__1)"
   ]
  },
  {
   "cell_type": "code",
   "execution_count": 90,
   "id": "c2f641f2-bd10-4f9f-b3b8-3b96fcefcfed",
   "metadata": {
    "tags": []
   },
   "outputs": [
    {
     "name": "stdout",
     "output_type": "stream",
     "text": [
      "Fitting 3 folds for each of 25 candidates, totalling 75 fits\n",
      "[CV 1/3] END learning_rate=0.18999999999999997, max_depth=5, n_estimators=400;, score=0.737 total time=   7.5s\n",
      "[CV 2/3] END learning_rate=0.18999999999999997, max_depth=5, n_estimators=400;, score=0.730 total time=   7.3s\n",
      "[CV 3/3] END learning_rate=0.18999999999999997, max_depth=5, n_estimators=400;, score=0.740 total time=   7.3s\n",
      "[CV 1/3] END learning_rate=0.18999999999999997, max_depth=10, n_estimators=300;, score=0.724 total time=  12.0s\n",
      "[CV 2/3] END learning_rate=0.18999999999999997, max_depth=10, n_estimators=300;, score=0.724 total time=  12.0s\n",
      "[CV 3/3] END learning_rate=0.18999999999999997, max_depth=10, n_estimators=300;, score=0.737 total time=  12.2s\n",
      "[CV 1/3] END learning_rate=0.049999999999999996, max_depth=5, n_estimators=300;, score=0.754 total time=   5.5s\n",
      "[CV 2/3] END learning_rate=0.049999999999999996, max_depth=5, n_estimators=300;, score=0.748 total time=   5.4s\n",
      "[CV 3/3] END learning_rate=0.049999999999999996, max_depth=5, n_estimators=300;, score=0.755 total time=   5.4s\n",
      "[CV 1/3] END learning_rate=0.03, max_depth=10, n_estimators=300;, score=0.737 total time=  11.5s\n",
      "[CV 2/3] END learning_rate=0.03, max_depth=10, n_estimators=300;, score=0.735 total time=  11.2s\n",
      "[CV 3/3] END learning_rate=0.03, max_depth=10, n_estimators=300;, score=0.745 total time=  11.3s\n",
      "[CV 1/3] END learning_rate=0.08999999999999998, max_depth=5, n_estimators=100;, score=0.759 total time=   1.8s\n",
      "[CV 2/3] END learning_rate=0.08999999999999998, max_depth=5, n_estimators=100;, score=0.750 total time=   1.8s\n",
      "[CV 3/3] END learning_rate=0.08999999999999998, max_depth=5, n_estimators=100;, score=0.761 total time=   1.8s\n",
      "[CV 1/3] END learning_rate=0.049999999999999996, max_depth=10, n_estimators=300;, score=0.735 total time=  11.9s\n",
      "[CV 2/3] END learning_rate=0.049999999999999996, max_depth=10, n_estimators=300;, score=0.728 total time=  11.5s\n",
      "[CV 3/3] END learning_rate=0.049999999999999996, max_depth=10, n_estimators=300;, score=0.740 total time=  11.5s\n",
      "[CV 1/3] END learning_rate=0.01, max_depth=10, n_estimators=100;, score=0.734 total time=   3.6s\n",
      "[CV 2/3] END learning_rate=0.01, max_depth=10, n_estimators=100;, score=0.727 total time=   3.4s\n",
      "[CV 3/3] END learning_rate=0.01, max_depth=10, n_estimators=100;, score=0.744 total time=   3.6s\n",
      "[CV 1/3] END learning_rate=0.16999999999999998, max_depth=5, n_estimators=200;, score=0.747 total time=   3.6s\n",
      "[CV 2/3] END learning_rate=0.16999999999999998, max_depth=5, n_estimators=200;, score=0.741 total time=   3.7s\n",
      "[CV 3/3] END learning_rate=0.16999999999999998, max_depth=5, n_estimators=200;, score=0.752 total time=   3.6s\n",
      "[CV 1/3] END learning_rate=0.08999999999999998, max_depth=10, n_estimators=400;, score=0.728 total time=  16.3s\n",
      "[CV 2/3] END learning_rate=0.08999999999999998, max_depth=10, n_estimators=400;, score=0.725 total time=  15.8s\n",
      "[CV 3/3] END learning_rate=0.08999999999999998, max_depth=10, n_estimators=400;, score=0.738 total time=  15.8s\n",
      "[CV 1/3] END learning_rate=0.18999999999999997, max_depth=5, n_estimators=100;, score=0.751 total time=   1.8s\n",
      "[CV 2/3] END learning_rate=0.18999999999999997, max_depth=5, n_estimators=100;, score=0.748 total time=   1.8s\n",
      "[CV 3/3] END learning_rate=0.18999999999999997, max_depth=5, n_estimators=100;, score=0.753 total time=   1.8s\n",
      "[CV 1/3] END learning_rate=0.10999999999999997, max_depth=10, n_estimators=200;, score=0.729 total time=   7.9s\n",
      "[CV 2/3] END learning_rate=0.10999999999999997, max_depth=10, n_estimators=200;, score=0.723 total time=   7.9s\n",
      "[CV 3/3] END learning_rate=0.10999999999999997, max_depth=10, n_estimators=200;, score=0.736 total time=   7.9s\n",
      "[CV 1/3] END learning_rate=0.16999999999999998, max_depth=10, n_estimators=300;, score=0.726 total time=  12.0s\n",
      "[CV 2/3] END learning_rate=0.16999999999999998, max_depth=10, n_estimators=300;, score=0.728 total time=  11.9s\n",
      "[CV 3/3] END learning_rate=0.16999999999999998, max_depth=10, n_estimators=300;, score=0.733 total time=  11.9s\n",
      "[CV 1/3] END learning_rate=0.01, max_depth=10, n_estimators=400;, score=0.745 total time=  14.8s\n",
      "[CV 2/3] END learning_rate=0.01, max_depth=10, n_estimators=400;, score=0.743 total time=  14.3s\n",
      "[CV 3/3] END learning_rate=0.01, max_depth=10, n_estimators=400;, score=0.755 total time=  14.3s\n",
      "[CV 1/3] END learning_rate=0.06999999999999999, max_depth=5, n_estimators=300;, score=0.752 total time=   5.5s\n",
      "[CV 2/3] END learning_rate=0.06999999999999999, max_depth=5, n_estimators=300;, score=0.745 total time=   5.5s\n",
      "[CV 3/3] END learning_rate=0.06999999999999999, max_depth=5, n_estimators=300;, score=0.756 total time=   5.5s\n",
      "[CV 1/3] END learning_rate=0.12999999999999998, max_depth=5, n_estimators=400;, score=0.742 total time=   7.4s\n"
     ]
    },
    {
     "ename": "KeyboardInterrupt",
     "evalue": "",
     "output_type": "error",
     "traceback": [
      "\u001b[0;31m---------------------------------------------------------------------------\u001b[0m",
      "\u001b[0;31mKeyboardInterrupt\u001b[0m                         Traceback (most recent call last)",
      "Cell \u001b[0;32mIn[90], line 17\u001b[0m\n\u001b[1;32m      3\u001b[0m param_grid \u001b[38;5;241m=\u001b[39m {\n\u001b[1;32m      4\u001b[0m     \u001b[38;5;124m'\u001b[39m\u001b[38;5;124mn_estimators\u001b[39m\u001b[38;5;124m'\u001b[39m: \u001b[38;5;28mrange\u001b[39m(\u001b[38;5;241m100\u001b[39m, \u001b[38;5;241m500\u001b[39m, \u001b[38;5;241m100\u001b[39m),\n\u001b[1;32m      5\u001b[0m     \u001b[38;5;124m'\u001b[39m\u001b[38;5;124mmax_depth\u001b[39m\u001b[38;5;124m'\u001b[39m: \u001b[38;5;28mrange\u001b[39m(\u001b[38;5;241m5\u001b[39m, \u001b[38;5;241m15\u001b[39m,\u001b[38;5;241m5\u001b[39m),\n\u001b[1;32m      6\u001b[0m     \u001b[38;5;124m'\u001b[39m\u001b[38;5;124mlearning_rate\u001b[39m\u001b[38;5;124m'\u001b[39m: np\u001b[38;5;241m.\u001b[39marange(\u001b[38;5;241m0.01\u001b[39m, \u001b[38;5;241m0.2\u001b[39m, \u001b[38;5;241m0.02\u001b[39m)\n\u001b[1;32m      7\u001b[0m }\n\u001b[1;32m      8\u001b[0m cv \u001b[38;5;241m=\u001b[39m RandomizedSearchCV(\n\u001b[1;32m      9\u001b[0m     gb,\n\u001b[1;32m     10\u001b[0m     param_grid,\n\u001b[0;32m   (...)\u001b[0m\n\u001b[1;32m     15\u001b[0m     verbose \u001b[38;5;241m=\u001b[39m \u001b[38;5;241m5\u001b[39m\n\u001b[1;32m     16\u001b[0m )\n\u001b[0;32m---> 17\u001b[0m \u001b[43mcv\u001b[49m\u001b[38;5;241;43m.\u001b[39;49m\u001b[43mfit\u001b[49m\u001b[43m(\u001b[49m\u001b[43mX_train_scaled\u001b[49m\u001b[43m,\u001b[49m\u001b[43m \u001b[49m\u001b[43my_train\u001b[49m\u001b[43m)\u001b[49m\n\u001b[1;32m     19\u001b[0m gb_best \u001b[38;5;241m=\u001b[39m cv\u001b[38;5;241m.\u001b[39mbest_estimator_\n\u001b[1;32m     21\u001b[0m \u001b[38;5;28mprint\u001b[39m(\u001b[38;5;124m'\u001b[39m\u001b[38;5;124mGradient boosting CV score\u001b[39m\u001b[38;5;124m'\u001b[39m)\n",
      "File \u001b[0;32m~/miniforge3/envs/python38/lib/python3.8/site-packages/sklearn/model_selection/_search.py:874\u001b[0m, in \u001b[0;36mBaseSearchCV.fit\u001b[0;34m(self, X, y, groups, **fit_params)\u001b[0m\n\u001b[1;32m    868\u001b[0m     results \u001b[38;5;241m=\u001b[39m \u001b[38;5;28mself\u001b[39m\u001b[38;5;241m.\u001b[39m_format_results(\n\u001b[1;32m    869\u001b[0m         all_candidate_params, n_splits, all_out, all_more_results\n\u001b[1;32m    870\u001b[0m     )\n\u001b[1;32m    872\u001b[0m     \u001b[38;5;28;01mreturn\u001b[39;00m results\n\u001b[0;32m--> 874\u001b[0m \u001b[38;5;28;43mself\u001b[39;49m\u001b[38;5;241;43m.\u001b[39;49m\u001b[43m_run_search\u001b[49m\u001b[43m(\u001b[49m\u001b[43mevaluate_candidates\u001b[49m\u001b[43m)\u001b[49m\n\u001b[1;32m    876\u001b[0m \u001b[38;5;66;03m# multimetric is determined here because in the case of a callable\u001b[39;00m\n\u001b[1;32m    877\u001b[0m \u001b[38;5;66;03m# self.scoring the return type is only known after calling\u001b[39;00m\n\u001b[1;32m    878\u001b[0m first_test_score \u001b[38;5;241m=\u001b[39m all_out[\u001b[38;5;241m0\u001b[39m][\u001b[38;5;124m\"\u001b[39m\u001b[38;5;124mtest_scores\u001b[39m\u001b[38;5;124m\"\u001b[39m]\n",
      "File \u001b[0;32m~/miniforge3/envs/python38/lib/python3.8/site-packages/sklearn/model_selection/_search.py:1768\u001b[0m, in \u001b[0;36mRandomizedSearchCV._run_search\u001b[0;34m(self, evaluate_candidates)\u001b[0m\n\u001b[1;32m   1766\u001b[0m \u001b[38;5;28;01mdef\u001b[39;00m \u001b[38;5;21m_run_search\u001b[39m(\u001b[38;5;28mself\u001b[39m, evaluate_candidates):\n\u001b[1;32m   1767\u001b[0m \u001b[38;5;250m    \u001b[39m\u001b[38;5;124;03m\"\"\"Search n_iter candidates from param_distributions\"\"\"\u001b[39;00m\n\u001b[0;32m-> 1768\u001b[0m     \u001b[43mevaluate_candidates\u001b[49m\u001b[43m(\u001b[49m\n\u001b[1;32m   1769\u001b[0m \u001b[43m        \u001b[49m\u001b[43mParameterSampler\u001b[49m\u001b[43m(\u001b[49m\n\u001b[1;32m   1770\u001b[0m \u001b[43m            \u001b[49m\u001b[38;5;28;43mself\u001b[39;49m\u001b[38;5;241;43m.\u001b[39;49m\u001b[43mparam_distributions\u001b[49m\u001b[43m,\u001b[49m\u001b[43m \u001b[49m\u001b[38;5;28;43mself\u001b[39;49m\u001b[38;5;241;43m.\u001b[39;49m\u001b[43mn_iter\u001b[49m\u001b[43m,\u001b[49m\u001b[43m \u001b[49m\u001b[43mrandom_state\u001b[49m\u001b[38;5;241;43m=\u001b[39;49m\u001b[38;5;28;43mself\u001b[39;49m\u001b[38;5;241;43m.\u001b[39;49m\u001b[43mrandom_state\u001b[49m\n\u001b[1;32m   1771\u001b[0m \u001b[43m        \u001b[49m\u001b[43m)\u001b[49m\n\u001b[1;32m   1772\u001b[0m \u001b[43m    \u001b[49m\u001b[43m)\u001b[49m\n",
      "File \u001b[0;32m~/miniforge3/envs/python38/lib/python3.8/site-packages/sklearn/model_selection/_search.py:821\u001b[0m, in \u001b[0;36mBaseSearchCV.fit.<locals>.evaluate_candidates\u001b[0;34m(candidate_params, cv, more_results)\u001b[0m\n\u001b[1;32m    813\u001b[0m \u001b[38;5;28;01mif\u001b[39;00m \u001b[38;5;28mself\u001b[39m\u001b[38;5;241m.\u001b[39mverbose \u001b[38;5;241m>\u001b[39m \u001b[38;5;241m0\u001b[39m:\n\u001b[1;32m    814\u001b[0m     \u001b[38;5;28mprint\u001b[39m(\n\u001b[1;32m    815\u001b[0m         \u001b[38;5;124m\"\u001b[39m\u001b[38;5;124mFitting \u001b[39m\u001b[38;5;132;01m{0}\u001b[39;00m\u001b[38;5;124m folds for each of \u001b[39m\u001b[38;5;132;01m{1}\u001b[39;00m\u001b[38;5;124m candidates,\u001b[39m\u001b[38;5;124m\"\u001b[39m\n\u001b[1;32m    816\u001b[0m         \u001b[38;5;124m\"\u001b[39m\u001b[38;5;124m totalling \u001b[39m\u001b[38;5;132;01m{2}\u001b[39;00m\u001b[38;5;124m fits\u001b[39m\u001b[38;5;124m\"\u001b[39m\u001b[38;5;241m.\u001b[39mformat(\n\u001b[1;32m    817\u001b[0m             n_splits, n_candidates, n_candidates \u001b[38;5;241m*\u001b[39m n_splits\n\u001b[1;32m    818\u001b[0m         )\n\u001b[1;32m    819\u001b[0m     )\n\u001b[0;32m--> 821\u001b[0m out \u001b[38;5;241m=\u001b[39m \u001b[43mparallel\u001b[49m\u001b[43m(\u001b[49m\n\u001b[1;32m    822\u001b[0m \u001b[43m    \u001b[49m\u001b[43mdelayed\u001b[49m\u001b[43m(\u001b[49m\u001b[43m_fit_and_score\u001b[49m\u001b[43m)\u001b[49m\u001b[43m(\u001b[49m\n\u001b[1;32m    823\u001b[0m \u001b[43m        \u001b[49m\u001b[43mclone\u001b[49m\u001b[43m(\u001b[49m\u001b[43mbase_estimator\u001b[49m\u001b[43m)\u001b[49m\u001b[43m,\u001b[49m\n\u001b[1;32m    824\u001b[0m \u001b[43m        \u001b[49m\u001b[43mX\u001b[49m\u001b[43m,\u001b[49m\n\u001b[1;32m    825\u001b[0m \u001b[43m        \u001b[49m\u001b[43my\u001b[49m\u001b[43m,\u001b[49m\n\u001b[1;32m    826\u001b[0m \u001b[43m        \u001b[49m\u001b[43mtrain\u001b[49m\u001b[38;5;241;43m=\u001b[39;49m\u001b[43mtrain\u001b[49m\u001b[43m,\u001b[49m\n\u001b[1;32m    827\u001b[0m \u001b[43m        \u001b[49m\u001b[43mtest\u001b[49m\u001b[38;5;241;43m=\u001b[39;49m\u001b[43mtest\u001b[49m\u001b[43m,\u001b[49m\n\u001b[1;32m    828\u001b[0m \u001b[43m        \u001b[49m\u001b[43mparameters\u001b[49m\u001b[38;5;241;43m=\u001b[39;49m\u001b[43mparameters\u001b[49m\u001b[43m,\u001b[49m\n\u001b[1;32m    829\u001b[0m \u001b[43m        \u001b[49m\u001b[43msplit_progress\u001b[49m\u001b[38;5;241;43m=\u001b[39;49m\u001b[43m(\u001b[49m\u001b[43msplit_idx\u001b[49m\u001b[43m,\u001b[49m\u001b[43m \u001b[49m\u001b[43mn_splits\u001b[49m\u001b[43m)\u001b[49m\u001b[43m,\u001b[49m\n\u001b[1;32m    830\u001b[0m \u001b[43m        \u001b[49m\u001b[43mcandidate_progress\u001b[49m\u001b[38;5;241;43m=\u001b[39;49m\u001b[43m(\u001b[49m\u001b[43mcand_idx\u001b[49m\u001b[43m,\u001b[49m\u001b[43m \u001b[49m\u001b[43mn_candidates\u001b[49m\u001b[43m)\u001b[49m\u001b[43m,\u001b[49m\n\u001b[1;32m    831\u001b[0m \u001b[43m        \u001b[49m\u001b[38;5;241;43m*\u001b[39;49m\u001b[38;5;241;43m*\u001b[39;49m\u001b[43mfit_and_score_kwargs\u001b[49m\u001b[43m,\u001b[49m\n\u001b[1;32m    832\u001b[0m \u001b[43m    \u001b[49m\u001b[43m)\u001b[49m\n\u001b[1;32m    833\u001b[0m \u001b[43m    \u001b[49m\u001b[38;5;28;43;01mfor\u001b[39;49;00m\u001b[43m \u001b[49m\u001b[43m(\u001b[49m\u001b[43mcand_idx\u001b[49m\u001b[43m,\u001b[49m\u001b[43m \u001b[49m\u001b[43mparameters\u001b[49m\u001b[43m)\u001b[49m\u001b[43m,\u001b[49m\u001b[43m \u001b[49m\u001b[43m(\u001b[49m\u001b[43msplit_idx\u001b[49m\u001b[43m,\u001b[49m\u001b[43m \u001b[49m\u001b[43m(\u001b[49m\u001b[43mtrain\u001b[49m\u001b[43m,\u001b[49m\u001b[43m \u001b[49m\u001b[43mtest\u001b[49m\u001b[43m)\u001b[49m\u001b[43m)\u001b[49m\u001b[43m \u001b[49m\u001b[38;5;129;43;01min\u001b[39;49;00m\u001b[43m \u001b[49m\u001b[43mproduct\u001b[49m\u001b[43m(\u001b[49m\n\u001b[1;32m    834\u001b[0m \u001b[43m        \u001b[49m\u001b[38;5;28;43menumerate\u001b[39;49m\u001b[43m(\u001b[49m\u001b[43mcandidate_params\u001b[49m\u001b[43m)\u001b[49m\u001b[43m,\u001b[49m\u001b[43m \u001b[49m\u001b[38;5;28;43menumerate\u001b[39;49m\u001b[43m(\u001b[49m\u001b[43mcv\u001b[49m\u001b[38;5;241;43m.\u001b[39;49m\u001b[43msplit\u001b[49m\u001b[43m(\u001b[49m\u001b[43mX\u001b[49m\u001b[43m,\u001b[49m\u001b[43m \u001b[49m\u001b[43my\u001b[49m\u001b[43m,\u001b[49m\u001b[43m \u001b[49m\u001b[43mgroups\u001b[49m\u001b[43m)\u001b[49m\u001b[43m)\u001b[49m\n\u001b[1;32m    835\u001b[0m \u001b[43m    \u001b[49m\u001b[43m)\u001b[49m\n\u001b[1;32m    836\u001b[0m \u001b[43m\u001b[49m\u001b[43m)\u001b[49m\n\u001b[1;32m    838\u001b[0m \u001b[38;5;28;01mif\u001b[39;00m \u001b[38;5;28mlen\u001b[39m(out) \u001b[38;5;241m<\u001b[39m \u001b[38;5;241m1\u001b[39m:\n\u001b[1;32m    839\u001b[0m     \u001b[38;5;28;01mraise\u001b[39;00m \u001b[38;5;167;01mValueError\u001b[39;00m(\n\u001b[1;32m    840\u001b[0m         \u001b[38;5;124m\"\u001b[39m\u001b[38;5;124mNo fits were performed. \u001b[39m\u001b[38;5;124m\"\u001b[39m\n\u001b[1;32m    841\u001b[0m         \u001b[38;5;124m\"\u001b[39m\u001b[38;5;124mWas the CV iterator empty? \u001b[39m\u001b[38;5;124m\"\u001b[39m\n\u001b[1;32m    842\u001b[0m         \u001b[38;5;124m\"\u001b[39m\u001b[38;5;124mWere there no candidates?\u001b[39m\u001b[38;5;124m\"\u001b[39m\n\u001b[1;32m    843\u001b[0m     )\n",
      "File \u001b[0;32m~/miniforge3/envs/python38/lib/python3.8/site-packages/sklearn/utils/parallel.py:63\u001b[0m, in \u001b[0;36mParallel.__call__\u001b[0;34m(self, iterable)\u001b[0m\n\u001b[1;32m     58\u001b[0m config \u001b[38;5;241m=\u001b[39m get_config()\n\u001b[1;32m     59\u001b[0m iterable_with_config \u001b[38;5;241m=\u001b[39m (\n\u001b[1;32m     60\u001b[0m     (_with_config(delayed_func, config), args, kwargs)\n\u001b[1;32m     61\u001b[0m     \u001b[38;5;28;01mfor\u001b[39;00m delayed_func, args, kwargs \u001b[38;5;129;01min\u001b[39;00m iterable\n\u001b[1;32m     62\u001b[0m )\n\u001b[0;32m---> 63\u001b[0m \u001b[38;5;28;01mreturn\u001b[39;00m \u001b[38;5;28;43msuper\u001b[39;49m\u001b[43m(\u001b[49m\u001b[43m)\u001b[49m\u001b[38;5;241;43m.\u001b[39;49m\u001b[38;5;21;43m__call__\u001b[39;49m\u001b[43m(\u001b[49m\u001b[43miterable_with_config\u001b[49m\u001b[43m)\u001b[49m\n",
      "File \u001b[0;32m~/miniforge3/envs/python38/lib/python3.8/site-packages/joblib/parallel.py:1088\u001b[0m, in \u001b[0;36mParallel.__call__\u001b[0;34m(self, iterable)\u001b[0m\n\u001b[1;32m   1085\u001b[0m \u001b[38;5;28;01mif\u001b[39;00m \u001b[38;5;28mself\u001b[39m\u001b[38;5;241m.\u001b[39mdispatch_one_batch(iterator):\n\u001b[1;32m   1086\u001b[0m     \u001b[38;5;28mself\u001b[39m\u001b[38;5;241m.\u001b[39m_iterating \u001b[38;5;241m=\u001b[39m \u001b[38;5;28mself\u001b[39m\u001b[38;5;241m.\u001b[39m_original_iterator \u001b[38;5;129;01mis\u001b[39;00m \u001b[38;5;129;01mnot\u001b[39;00m \u001b[38;5;28;01mNone\u001b[39;00m\n\u001b[0;32m-> 1088\u001b[0m \u001b[38;5;28;01mwhile\u001b[39;00m \u001b[38;5;28;43mself\u001b[39;49m\u001b[38;5;241;43m.\u001b[39;49m\u001b[43mdispatch_one_batch\u001b[49m\u001b[43m(\u001b[49m\u001b[43miterator\u001b[49m\u001b[43m)\u001b[49m:\n\u001b[1;32m   1089\u001b[0m     \u001b[38;5;28;01mpass\u001b[39;00m\n\u001b[1;32m   1091\u001b[0m \u001b[38;5;28;01mif\u001b[39;00m pre_dispatch \u001b[38;5;241m==\u001b[39m \u001b[38;5;124m\"\u001b[39m\u001b[38;5;124mall\u001b[39m\u001b[38;5;124m\"\u001b[39m \u001b[38;5;129;01mor\u001b[39;00m n_jobs \u001b[38;5;241m==\u001b[39m \u001b[38;5;241m1\u001b[39m:\n\u001b[1;32m   1092\u001b[0m     \u001b[38;5;66;03m# The iterable was consumed all at once by the above for loop.\u001b[39;00m\n\u001b[1;32m   1093\u001b[0m     \u001b[38;5;66;03m# No need to wait for async callbacks to trigger to\u001b[39;00m\n\u001b[1;32m   1094\u001b[0m     \u001b[38;5;66;03m# consumption.\u001b[39;00m\n",
      "File \u001b[0;32m~/miniforge3/envs/python38/lib/python3.8/site-packages/joblib/parallel.py:901\u001b[0m, in \u001b[0;36mParallel.dispatch_one_batch\u001b[0;34m(self, iterator)\u001b[0m\n\u001b[1;32m    899\u001b[0m     \u001b[38;5;28;01mreturn\u001b[39;00m \u001b[38;5;28;01mFalse\u001b[39;00m\n\u001b[1;32m    900\u001b[0m \u001b[38;5;28;01melse\u001b[39;00m:\n\u001b[0;32m--> 901\u001b[0m     \u001b[38;5;28;43mself\u001b[39;49m\u001b[38;5;241;43m.\u001b[39;49m\u001b[43m_dispatch\u001b[49m\u001b[43m(\u001b[49m\u001b[43mtasks\u001b[49m\u001b[43m)\u001b[49m\n\u001b[1;32m    902\u001b[0m     \u001b[38;5;28;01mreturn\u001b[39;00m \u001b[38;5;28;01mTrue\u001b[39;00m\n",
      "File \u001b[0;32m~/miniforge3/envs/python38/lib/python3.8/site-packages/joblib/parallel.py:819\u001b[0m, in \u001b[0;36mParallel._dispatch\u001b[0;34m(self, batch)\u001b[0m\n\u001b[1;32m    817\u001b[0m \u001b[38;5;28;01mwith\u001b[39;00m \u001b[38;5;28mself\u001b[39m\u001b[38;5;241m.\u001b[39m_lock:\n\u001b[1;32m    818\u001b[0m     job_idx \u001b[38;5;241m=\u001b[39m \u001b[38;5;28mlen\u001b[39m(\u001b[38;5;28mself\u001b[39m\u001b[38;5;241m.\u001b[39m_jobs)\n\u001b[0;32m--> 819\u001b[0m     job \u001b[38;5;241m=\u001b[39m \u001b[38;5;28;43mself\u001b[39;49m\u001b[38;5;241;43m.\u001b[39;49m\u001b[43m_backend\u001b[49m\u001b[38;5;241;43m.\u001b[39;49m\u001b[43mapply_async\u001b[49m\u001b[43m(\u001b[49m\u001b[43mbatch\u001b[49m\u001b[43m,\u001b[49m\u001b[43m \u001b[49m\u001b[43mcallback\u001b[49m\u001b[38;5;241;43m=\u001b[39;49m\u001b[43mcb\u001b[49m\u001b[43m)\u001b[49m\n\u001b[1;32m    820\u001b[0m     \u001b[38;5;66;03m# A job can complete so quickly than its callback is\u001b[39;00m\n\u001b[1;32m    821\u001b[0m     \u001b[38;5;66;03m# called before we get here, causing self._jobs to\u001b[39;00m\n\u001b[1;32m    822\u001b[0m     \u001b[38;5;66;03m# grow. To ensure correct results ordering, .insert is\u001b[39;00m\n\u001b[1;32m    823\u001b[0m     \u001b[38;5;66;03m# used (rather than .append) in the following line\u001b[39;00m\n\u001b[1;32m    824\u001b[0m     \u001b[38;5;28mself\u001b[39m\u001b[38;5;241m.\u001b[39m_jobs\u001b[38;5;241m.\u001b[39minsert(job_idx, job)\n",
      "File \u001b[0;32m~/miniforge3/envs/python38/lib/python3.8/site-packages/joblib/_parallel_backends.py:208\u001b[0m, in \u001b[0;36mSequentialBackend.apply_async\u001b[0;34m(self, func, callback)\u001b[0m\n\u001b[1;32m    206\u001b[0m \u001b[38;5;28;01mdef\u001b[39;00m \u001b[38;5;21mapply_async\u001b[39m(\u001b[38;5;28mself\u001b[39m, func, callback\u001b[38;5;241m=\u001b[39m\u001b[38;5;28;01mNone\u001b[39;00m):\n\u001b[1;32m    207\u001b[0m \u001b[38;5;250m    \u001b[39m\u001b[38;5;124;03m\"\"\"Schedule a func to be run\"\"\"\u001b[39;00m\n\u001b[0;32m--> 208\u001b[0m     result \u001b[38;5;241m=\u001b[39m \u001b[43mImmediateResult\u001b[49m\u001b[43m(\u001b[49m\u001b[43mfunc\u001b[49m\u001b[43m)\u001b[49m\n\u001b[1;32m    209\u001b[0m     \u001b[38;5;28;01mif\u001b[39;00m callback:\n\u001b[1;32m    210\u001b[0m         callback(result)\n",
      "File \u001b[0;32m~/miniforge3/envs/python38/lib/python3.8/site-packages/joblib/_parallel_backends.py:597\u001b[0m, in \u001b[0;36mImmediateResult.__init__\u001b[0;34m(self, batch)\u001b[0m\n\u001b[1;32m    594\u001b[0m \u001b[38;5;28;01mdef\u001b[39;00m \u001b[38;5;21m__init__\u001b[39m(\u001b[38;5;28mself\u001b[39m, batch):\n\u001b[1;32m    595\u001b[0m     \u001b[38;5;66;03m# Don't delay the application, to avoid keeping the input\u001b[39;00m\n\u001b[1;32m    596\u001b[0m     \u001b[38;5;66;03m# arguments in memory\u001b[39;00m\n\u001b[0;32m--> 597\u001b[0m     \u001b[38;5;28mself\u001b[39m\u001b[38;5;241m.\u001b[39mresults \u001b[38;5;241m=\u001b[39m \u001b[43mbatch\u001b[49m\u001b[43m(\u001b[49m\u001b[43m)\u001b[49m\n",
      "File \u001b[0;32m~/miniforge3/envs/python38/lib/python3.8/site-packages/joblib/parallel.py:288\u001b[0m, in \u001b[0;36mBatchedCalls.__call__\u001b[0;34m(self)\u001b[0m\n\u001b[1;32m    284\u001b[0m \u001b[38;5;28;01mdef\u001b[39;00m \u001b[38;5;21m__call__\u001b[39m(\u001b[38;5;28mself\u001b[39m):\n\u001b[1;32m    285\u001b[0m     \u001b[38;5;66;03m# Set the default nested backend to self._backend but do not set the\u001b[39;00m\n\u001b[1;32m    286\u001b[0m     \u001b[38;5;66;03m# change the default number of processes to -1\u001b[39;00m\n\u001b[1;32m    287\u001b[0m     \u001b[38;5;28;01mwith\u001b[39;00m parallel_backend(\u001b[38;5;28mself\u001b[39m\u001b[38;5;241m.\u001b[39m_backend, n_jobs\u001b[38;5;241m=\u001b[39m\u001b[38;5;28mself\u001b[39m\u001b[38;5;241m.\u001b[39m_n_jobs):\n\u001b[0;32m--> 288\u001b[0m         \u001b[38;5;28;01mreturn\u001b[39;00m [func(\u001b[38;5;241m*\u001b[39margs, \u001b[38;5;241m*\u001b[39m\u001b[38;5;241m*\u001b[39mkwargs)\n\u001b[1;32m    289\u001b[0m                 \u001b[38;5;28;01mfor\u001b[39;00m func, args, kwargs \u001b[38;5;129;01min\u001b[39;00m \u001b[38;5;28mself\u001b[39m\u001b[38;5;241m.\u001b[39mitems]\n",
      "File \u001b[0;32m~/miniforge3/envs/python38/lib/python3.8/site-packages/joblib/parallel.py:288\u001b[0m, in \u001b[0;36m<listcomp>\u001b[0;34m(.0)\u001b[0m\n\u001b[1;32m    284\u001b[0m \u001b[38;5;28;01mdef\u001b[39;00m \u001b[38;5;21m__call__\u001b[39m(\u001b[38;5;28mself\u001b[39m):\n\u001b[1;32m    285\u001b[0m     \u001b[38;5;66;03m# Set the default nested backend to self._backend but do not set the\u001b[39;00m\n\u001b[1;32m    286\u001b[0m     \u001b[38;5;66;03m# change the default number of processes to -1\u001b[39;00m\n\u001b[1;32m    287\u001b[0m     \u001b[38;5;28;01mwith\u001b[39;00m parallel_backend(\u001b[38;5;28mself\u001b[39m\u001b[38;5;241m.\u001b[39m_backend, n_jobs\u001b[38;5;241m=\u001b[39m\u001b[38;5;28mself\u001b[39m\u001b[38;5;241m.\u001b[39m_n_jobs):\n\u001b[0;32m--> 288\u001b[0m         \u001b[38;5;28;01mreturn\u001b[39;00m [\u001b[43mfunc\u001b[49m\u001b[43m(\u001b[49m\u001b[38;5;241;43m*\u001b[39;49m\u001b[43margs\u001b[49m\u001b[43m,\u001b[49m\u001b[43m \u001b[49m\u001b[38;5;241;43m*\u001b[39;49m\u001b[38;5;241;43m*\u001b[39;49m\u001b[43mkwargs\u001b[49m\u001b[43m)\u001b[49m\n\u001b[1;32m    289\u001b[0m                 \u001b[38;5;28;01mfor\u001b[39;00m func, args, kwargs \u001b[38;5;129;01min\u001b[39;00m \u001b[38;5;28mself\u001b[39m\u001b[38;5;241m.\u001b[39mitems]\n",
      "File \u001b[0;32m~/miniforge3/envs/python38/lib/python3.8/site-packages/sklearn/utils/parallel.py:123\u001b[0m, in \u001b[0;36m_FuncWrapper.__call__\u001b[0;34m(self, *args, **kwargs)\u001b[0m\n\u001b[1;32m    121\u001b[0m     config \u001b[38;5;241m=\u001b[39m {}\n\u001b[1;32m    122\u001b[0m \u001b[38;5;28;01mwith\u001b[39;00m config_context(\u001b[38;5;241m*\u001b[39m\u001b[38;5;241m*\u001b[39mconfig):\n\u001b[0;32m--> 123\u001b[0m     \u001b[38;5;28;01mreturn\u001b[39;00m \u001b[38;5;28;43mself\u001b[39;49m\u001b[38;5;241;43m.\u001b[39;49m\u001b[43mfunction\u001b[49m\u001b[43m(\u001b[49m\u001b[38;5;241;43m*\u001b[39;49m\u001b[43margs\u001b[49m\u001b[43m,\u001b[49m\u001b[43m \u001b[49m\u001b[38;5;241;43m*\u001b[39;49m\u001b[38;5;241;43m*\u001b[39;49m\u001b[43mkwargs\u001b[49m\u001b[43m)\u001b[49m\n",
      "File \u001b[0;32m~/miniforge3/envs/python38/lib/python3.8/site-packages/sklearn/model_selection/_validation.py:686\u001b[0m, in \u001b[0;36m_fit_and_score\u001b[0;34m(estimator, X, y, scorer, train, test, verbose, parameters, fit_params, return_train_score, return_parameters, return_n_test_samples, return_times, return_estimator, split_progress, candidate_progress, error_score)\u001b[0m\n\u001b[1;32m    684\u001b[0m         estimator\u001b[38;5;241m.\u001b[39mfit(X_train, \u001b[38;5;241m*\u001b[39m\u001b[38;5;241m*\u001b[39mfit_params)\n\u001b[1;32m    685\u001b[0m     \u001b[38;5;28;01melse\u001b[39;00m:\n\u001b[0;32m--> 686\u001b[0m         \u001b[43mestimator\u001b[49m\u001b[38;5;241;43m.\u001b[39;49m\u001b[43mfit\u001b[49m\u001b[43m(\u001b[49m\u001b[43mX_train\u001b[49m\u001b[43m,\u001b[49m\u001b[43m \u001b[49m\u001b[43my_train\u001b[49m\u001b[43m,\u001b[49m\u001b[43m \u001b[49m\u001b[38;5;241;43m*\u001b[39;49m\u001b[38;5;241;43m*\u001b[39;49m\u001b[43mfit_params\u001b[49m\u001b[43m)\u001b[49m\n\u001b[1;32m    688\u001b[0m \u001b[38;5;28;01mexcept\u001b[39;00m \u001b[38;5;167;01mException\u001b[39;00m:\n\u001b[1;32m    689\u001b[0m     \u001b[38;5;66;03m# Note fit time as time until error\u001b[39;00m\n\u001b[1;32m    690\u001b[0m     fit_time \u001b[38;5;241m=\u001b[39m time\u001b[38;5;241m.\u001b[39mtime() \u001b[38;5;241m-\u001b[39m start_time\n",
      "File \u001b[0;32m~/miniforge3/envs/python38/lib/python3.8/site-packages/sklearn/ensemble/_gb.py:538\u001b[0m, in \u001b[0;36mBaseGradientBoosting.fit\u001b[0;34m(self, X, y, sample_weight, monitor)\u001b[0m\n\u001b[1;32m    535\u001b[0m     \u001b[38;5;28mself\u001b[39m\u001b[38;5;241m.\u001b[39m_resize_state()\n\u001b[1;32m    537\u001b[0m \u001b[38;5;66;03m# fit the boosting stages\u001b[39;00m\n\u001b[0;32m--> 538\u001b[0m n_stages \u001b[38;5;241m=\u001b[39m \u001b[38;5;28;43mself\u001b[39;49m\u001b[38;5;241;43m.\u001b[39;49m\u001b[43m_fit_stages\u001b[49m\u001b[43m(\u001b[49m\n\u001b[1;32m    539\u001b[0m \u001b[43m    \u001b[49m\u001b[43mX\u001b[49m\u001b[43m,\u001b[49m\n\u001b[1;32m    540\u001b[0m \u001b[43m    \u001b[49m\u001b[43my\u001b[49m\u001b[43m,\u001b[49m\n\u001b[1;32m    541\u001b[0m \u001b[43m    \u001b[49m\u001b[43mraw_predictions\u001b[49m\u001b[43m,\u001b[49m\n\u001b[1;32m    542\u001b[0m \u001b[43m    \u001b[49m\u001b[43msample_weight\u001b[49m\u001b[43m,\u001b[49m\n\u001b[1;32m    543\u001b[0m \u001b[43m    \u001b[49m\u001b[38;5;28;43mself\u001b[39;49m\u001b[38;5;241;43m.\u001b[39;49m\u001b[43m_rng\u001b[49m\u001b[43m,\u001b[49m\n\u001b[1;32m    544\u001b[0m \u001b[43m    \u001b[49m\u001b[43mX_val\u001b[49m\u001b[43m,\u001b[49m\n\u001b[1;32m    545\u001b[0m \u001b[43m    \u001b[49m\u001b[43my_val\u001b[49m\u001b[43m,\u001b[49m\n\u001b[1;32m    546\u001b[0m \u001b[43m    \u001b[49m\u001b[43msample_weight_val\u001b[49m\u001b[43m,\u001b[49m\n\u001b[1;32m    547\u001b[0m \u001b[43m    \u001b[49m\u001b[43mbegin_at_stage\u001b[49m\u001b[43m,\u001b[49m\n\u001b[1;32m    548\u001b[0m \u001b[43m    \u001b[49m\u001b[43mmonitor\u001b[49m\u001b[43m,\u001b[49m\n\u001b[1;32m    549\u001b[0m \u001b[43m\u001b[49m\u001b[43m)\u001b[49m\n\u001b[1;32m    551\u001b[0m \u001b[38;5;66;03m# change shape of arrays after fit (early-stopping or additional ests)\u001b[39;00m\n\u001b[1;32m    552\u001b[0m \u001b[38;5;28;01mif\u001b[39;00m n_stages \u001b[38;5;241m!=\u001b[39m \u001b[38;5;28mself\u001b[39m\u001b[38;5;241m.\u001b[39mestimators_\u001b[38;5;241m.\u001b[39mshape[\u001b[38;5;241m0\u001b[39m]:\n",
      "File \u001b[0;32m~/miniforge3/envs/python38/lib/python3.8/site-packages/sklearn/ensemble/_gb.py:615\u001b[0m, in \u001b[0;36mBaseGradientBoosting._fit_stages\u001b[0;34m(self, X, y, raw_predictions, sample_weight, random_state, X_val, y_val, sample_weight_val, begin_at_stage, monitor)\u001b[0m\n\u001b[1;32m    608\u001b[0m     old_oob_score \u001b[38;5;241m=\u001b[39m loss_(\n\u001b[1;32m    609\u001b[0m         y[\u001b[38;5;241m~\u001b[39msample_mask],\n\u001b[1;32m    610\u001b[0m         raw_predictions[\u001b[38;5;241m~\u001b[39msample_mask],\n\u001b[1;32m    611\u001b[0m         sample_weight[\u001b[38;5;241m~\u001b[39msample_mask],\n\u001b[1;32m    612\u001b[0m     )\n\u001b[1;32m    614\u001b[0m \u001b[38;5;66;03m# fit next stage of trees\u001b[39;00m\n\u001b[0;32m--> 615\u001b[0m raw_predictions \u001b[38;5;241m=\u001b[39m \u001b[38;5;28;43mself\u001b[39;49m\u001b[38;5;241;43m.\u001b[39;49m\u001b[43m_fit_stage\u001b[49m\u001b[43m(\u001b[49m\n\u001b[1;32m    616\u001b[0m \u001b[43m    \u001b[49m\u001b[43mi\u001b[49m\u001b[43m,\u001b[49m\n\u001b[1;32m    617\u001b[0m \u001b[43m    \u001b[49m\u001b[43mX\u001b[49m\u001b[43m,\u001b[49m\n\u001b[1;32m    618\u001b[0m \u001b[43m    \u001b[49m\u001b[43my\u001b[49m\u001b[43m,\u001b[49m\n\u001b[1;32m    619\u001b[0m \u001b[43m    \u001b[49m\u001b[43mraw_predictions\u001b[49m\u001b[43m,\u001b[49m\n\u001b[1;32m    620\u001b[0m \u001b[43m    \u001b[49m\u001b[43msample_weight\u001b[49m\u001b[43m,\u001b[49m\n\u001b[1;32m    621\u001b[0m \u001b[43m    \u001b[49m\u001b[43msample_mask\u001b[49m\u001b[43m,\u001b[49m\n\u001b[1;32m    622\u001b[0m \u001b[43m    \u001b[49m\u001b[43mrandom_state\u001b[49m\u001b[43m,\u001b[49m\n\u001b[1;32m    623\u001b[0m \u001b[43m    \u001b[49m\u001b[43mX_csc\u001b[49m\u001b[43m,\u001b[49m\n\u001b[1;32m    624\u001b[0m \u001b[43m    \u001b[49m\u001b[43mX_csr\u001b[49m\u001b[43m,\u001b[49m\n\u001b[1;32m    625\u001b[0m \u001b[43m\u001b[49m\u001b[43m)\u001b[49m\n\u001b[1;32m    627\u001b[0m \u001b[38;5;66;03m# track deviance (= loss)\u001b[39;00m\n\u001b[1;32m    628\u001b[0m \u001b[38;5;28;01mif\u001b[39;00m do_oob:\n",
      "File \u001b[0;32m~/miniforge3/envs/python38/lib/python3.8/site-packages/sklearn/ensemble/_gb.py:257\u001b[0m, in \u001b[0;36mBaseGradientBoosting._fit_stage\u001b[0;34m(self, i, X, y, raw_predictions, sample_weight, sample_mask, random_state, X_csc, X_csr)\u001b[0m\n\u001b[1;32m    254\u001b[0m     sample_weight \u001b[38;5;241m=\u001b[39m sample_weight \u001b[38;5;241m*\u001b[39m sample_mask\u001b[38;5;241m.\u001b[39mastype(np\u001b[38;5;241m.\u001b[39mfloat64)\n\u001b[1;32m    256\u001b[0m X \u001b[38;5;241m=\u001b[39m X_csr \u001b[38;5;28;01mif\u001b[39;00m X_csr \u001b[38;5;129;01mis\u001b[39;00m \u001b[38;5;129;01mnot\u001b[39;00m \u001b[38;5;28;01mNone\u001b[39;00m \u001b[38;5;28;01melse\u001b[39;00m X\n\u001b[0;32m--> 257\u001b[0m \u001b[43mtree\u001b[49m\u001b[38;5;241;43m.\u001b[39;49m\u001b[43mfit\u001b[49m\u001b[43m(\u001b[49m\u001b[43mX\u001b[49m\u001b[43m,\u001b[49m\u001b[43m \u001b[49m\u001b[43mresidual\u001b[49m\u001b[43m,\u001b[49m\u001b[43m \u001b[49m\u001b[43msample_weight\u001b[49m\u001b[38;5;241;43m=\u001b[39;49m\u001b[43msample_weight\u001b[49m\u001b[43m,\u001b[49m\u001b[43m \u001b[49m\u001b[43mcheck_input\u001b[49m\u001b[38;5;241;43m=\u001b[39;49m\u001b[38;5;28;43;01mFalse\u001b[39;49;00m\u001b[43m)\u001b[49m\n\u001b[1;32m    259\u001b[0m \u001b[38;5;66;03m# update tree leaves\u001b[39;00m\n\u001b[1;32m    260\u001b[0m loss\u001b[38;5;241m.\u001b[39mupdate_terminal_regions(\n\u001b[1;32m    261\u001b[0m     tree\u001b[38;5;241m.\u001b[39mtree_,\n\u001b[1;32m    262\u001b[0m     X,\n\u001b[0;32m   (...)\u001b[0m\n\u001b[1;32m    269\u001b[0m     k\u001b[38;5;241m=\u001b[39mk,\n\u001b[1;32m    270\u001b[0m )\n",
      "File \u001b[0;32m~/miniforge3/envs/python38/lib/python3.8/site-packages/sklearn/tree/_classes.py:1247\u001b[0m, in \u001b[0;36mDecisionTreeRegressor.fit\u001b[0;34m(self, X, y, sample_weight, check_input)\u001b[0m\n\u001b[1;32m   1218\u001b[0m \u001b[38;5;28;01mdef\u001b[39;00m \u001b[38;5;21mfit\u001b[39m(\u001b[38;5;28mself\u001b[39m, X, y, sample_weight\u001b[38;5;241m=\u001b[39m\u001b[38;5;28;01mNone\u001b[39;00m, check_input\u001b[38;5;241m=\u001b[39m\u001b[38;5;28;01mTrue\u001b[39;00m):\n\u001b[1;32m   1219\u001b[0m \u001b[38;5;250m    \u001b[39m\u001b[38;5;124;03m\"\"\"Build a decision tree regressor from the training set (X, y).\u001b[39;00m\n\u001b[1;32m   1220\u001b[0m \n\u001b[1;32m   1221\u001b[0m \u001b[38;5;124;03m    Parameters\u001b[39;00m\n\u001b[0;32m   (...)\u001b[0m\n\u001b[1;32m   1244\u001b[0m \u001b[38;5;124;03m        Fitted estimator.\u001b[39;00m\n\u001b[1;32m   1245\u001b[0m \u001b[38;5;124;03m    \"\"\"\u001b[39;00m\n\u001b[0;32m-> 1247\u001b[0m     \u001b[38;5;28;43msuper\u001b[39;49m\u001b[43m(\u001b[49m\u001b[43m)\u001b[49m\u001b[38;5;241;43m.\u001b[39;49m\u001b[43mfit\u001b[49m\u001b[43m(\u001b[49m\n\u001b[1;32m   1248\u001b[0m \u001b[43m        \u001b[49m\u001b[43mX\u001b[49m\u001b[43m,\u001b[49m\n\u001b[1;32m   1249\u001b[0m \u001b[43m        \u001b[49m\u001b[43my\u001b[49m\u001b[43m,\u001b[49m\n\u001b[1;32m   1250\u001b[0m \u001b[43m        \u001b[49m\u001b[43msample_weight\u001b[49m\u001b[38;5;241;43m=\u001b[39;49m\u001b[43msample_weight\u001b[49m\u001b[43m,\u001b[49m\n\u001b[1;32m   1251\u001b[0m \u001b[43m        \u001b[49m\u001b[43mcheck_input\u001b[49m\u001b[38;5;241;43m=\u001b[39;49m\u001b[43mcheck_input\u001b[49m\u001b[43m,\u001b[49m\n\u001b[1;32m   1252\u001b[0m \u001b[43m    \u001b[49m\u001b[43m)\u001b[49m\n\u001b[1;32m   1253\u001b[0m     \u001b[38;5;28;01mreturn\u001b[39;00m \u001b[38;5;28mself\u001b[39m\n",
      "File \u001b[0;32m~/miniforge3/envs/python38/lib/python3.8/site-packages/sklearn/tree/_classes.py:379\u001b[0m, in \u001b[0;36mBaseDecisionTree.fit\u001b[0;34m(self, X, y, sample_weight, check_input)\u001b[0m\n\u001b[1;32m    368\u001b[0m \u001b[38;5;28;01melse\u001b[39;00m:\n\u001b[1;32m    369\u001b[0m     builder \u001b[38;5;241m=\u001b[39m BestFirstTreeBuilder(\n\u001b[1;32m    370\u001b[0m         splitter,\n\u001b[1;32m    371\u001b[0m         min_samples_split,\n\u001b[0;32m   (...)\u001b[0m\n\u001b[1;32m    376\u001b[0m         \u001b[38;5;28mself\u001b[39m\u001b[38;5;241m.\u001b[39mmin_impurity_decrease,\n\u001b[1;32m    377\u001b[0m     )\n\u001b[0;32m--> 379\u001b[0m \u001b[43mbuilder\u001b[49m\u001b[38;5;241;43m.\u001b[39;49m\u001b[43mbuild\u001b[49m\u001b[43m(\u001b[49m\u001b[38;5;28;43mself\u001b[39;49m\u001b[38;5;241;43m.\u001b[39;49m\u001b[43mtree_\u001b[49m\u001b[43m,\u001b[49m\u001b[43m \u001b[49m\u001b[43mX\u001b[49m\u001b[43m,\u001b[49m\u001b[43m \u001b[49m\u001b[43my\u001b[49m\u001b[43m,\u001b[49m\u001b[43m \u001b[49m\u001b[43msample_weight\u001b[49m\u001b[43m)\u001b[49m\n\u001b[1;32m    381\u001b[0m \u001b[38;5;28;01mif\u001b[39;00m \u001b[38;5;28mself\u001b[39m\u001b[38;5;241m.\u001b[39mn_outputs_ \u001b[38;5;241m==\u001b[39m \u001b[38;5;241m1\u001b[39m \u001b[38;5;129;01mand\u001b[39;00m is_classifier(\u001b[38;5;28mself\u001b[39m):\n\u001b[1;32m    382\u001b[0m     \u001b[38;5;28mself\u001b[39m\u001b[38;5;241m.\u001b[39mn_classes_ \u001b[38;5;241m=\u001b[39m \u001b[38;5;28mself\u001b[39m\u001b[38;5;241m.\u001b[39mn_classes_[\u001b[38;5;241m0\u001b[39m]\n",
      "\u001b[0;31mKeyboardInterrupt\u001b[0m: "
     ]
    }
   ],
   "source": [
    "gb = GradientBoostingClassifier()\n",
    "\n",
    "param_grid = {\n",
    "    'n_estimators': range(100, 500, 100),\n",
    "    'max_depth': range(5, 15,5),\n",
    "    'learning_rate': np.arange(0.01, 0.2, 0.02)\n",
    "}\n",
    "cv = RandomizedSearchCV(\n",
    "    gb,\n",
    "    param_grid,\n",
    "    n_iter = 25,\n",
    "    cv = 3,\n",
    "    scoring='f1',\n",
    "    random_state = random_state,\n",
    "    verbose = 5\n",
    ")\n",
    "cv.fit(X_train_scaled, y_train)\n",
    "\n",
    "gb_best = cv.best_estimator_\n",
    "\n",
    "print('Gradient boosting CV score')\n",
    "print(cross_val_score(gb_best, X_train_scaled, y_train, scoring='f1', cv=5))"
   ]
  },
  {
   "cell_type": "code",
   "execution_count": null,
   "id": "f05cb829-648b-4059-bd93-70b4b8778707",
   "metadata": {},
   "outputs": [],
   "source": []
  },
  {
   "cell_type": "code",
   "execution_count": null,
   "id": "9f9d08ca-11aa-4481-b265-42c86c44c4a2",
   "metadata": {},
   "outputs": [],
   "source": []
  },
  {
   "cell_type": "code",
   "execution_count": null,
   "id": "e826a08a-c77f-4f1c-955c-3147d21d4311",
   "metadata": {},
   "outputs": [],
   "source": []
  },
  {
   "cell_type": "code",
   "execution_count": null,
   "id": "69072902-8e6f-4a6a-8fe4-d80f23375f3c",
   "metadata": {},
   "outputs": [],
   "source": []
  },
  {
   "cell_type": "code",
   "execution_count": null,
   "id": "a7e6a924-1beb-464e-9ffa-c3731efbf663",
   "metadata": {},
   "outputs": [],
   "source": []
  },
  {
   "cell_type": "code",
   "execution_count": null,
   "id": "d591ab62-78a8-4856-8ed5-b842f6d9a432",
   "metadata": {},
   "outputs": [],
   "source": []
  }
 ],
 "metadata": {
  "kernelspec": {
   "display_name": "Python 3 (ipykernel)",
   "language": "python",
   "name": "python3"
  },
  "language_info": {
   "codemirror_mode": {
    "name": "ipython",
    "version": 3
   },
   "file_extension": ".py",
   "mimetype": "text/x-python",
   "name": "python",
   "nbconvert_exporter": "python",
   "pygments_lexer": "ipython3",
   "version": "3.8.16"
  }
 },
 "nbformat": 4,
 "nbformat_minor": 5
}
