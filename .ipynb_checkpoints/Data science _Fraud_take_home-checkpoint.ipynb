{
 "cells": [
  {
   "cell_type": "markdown",
   "id": "9373f403-e2ca-4eff-9796-18bff15e6e3a",
   "metadata": {
    "tags": []
   },
   "source": [
    "# Data science assessment - Fraud data\n",
    "\n",
    "## objective\n",
    "> to buld a machine learning model that predicts the probability that the first transaction of a new user is fraudulent\n",
    "\n",
    "## details\n",
    "- 'Electronica' : e-commerce site that sells wholesale electronics\n",
    "- want to know a given transaction is fraudulent or not\n",
    "- data of user's first transaction\n",
    "- costs\n",
    "    - fail to detect fraud : Electronica loses money equivalent to the price\n",
    "    - false alert          : cost my client values 8$"
   ]
  },
  {
   "cell_type": "code",
   "execution_count": 1,
   "id": "5c0f253d-b807-40e7-b0ab-d90dcc7e147f",
   "metadata": {
    "tags": []
   },
   "outputs": [],
   "source": [
    "# python built-in libraries\n",
    "import os\n",
    "from collections import Counter\n",
    "from datetime import datetime, timedelta\n",
    "\n",
    "# python third party libraries\n",
    "import matplotlib.pyplot as plt\n",
    "import numpy as np\n",
    "import pandas as pd\n",
    "import seaborn as sns\n",
    "from sklearn.discriminant_analysis import LinearDiscriminantAnalysis\n",
    "from sklearn.ensemble import RandomForestClassifier, GradientBoostingClassifier, VotingClassifier\n",
    "from sklearn.linear_model import LogisticRegression\n",
    "from sklearn.metrics import confusion_matrix\n",
    "from sklearn.model_selection import RandomizedSearchCV, cross_val_score, train_test_split\n",
    "from sklearn.naive_bayes import GaussianNB\n",
    "from sklearn.neighbors import KNeighborsClassifier\n",
    "from sklearn.preprocessing import StandardScaler\n",
    "\n",
    "# setting\n",
    "random_state = 79"
   ]
  },
  {
   "cell_type": "markdown",
   "id": "04631725-19bb-45f1-9faf-ca83948e3834",
   "metadata": {},
   "source": [
    "## load data"
   ]
  },
  {
   "cell_type": "code",
   "execution_count": 2,
   "id": "63489ebf-b6fe-4db4-9ab0-e1bb0e99e417",
   "metadata": {
    "tags": []
   },
   "outputs": [
    {
     "data": {
      "text/plain": [
       "'C:\\\\Users\\\\jhoonpark\\\\Desktop\\\\jhoonpark\\\\jhoonpark-codes\\\\detect_fraud_coding_test'"
      ]
     },
     "execution_count": 2,
     "metadata": {},
     "output_type": "execute_result"
    }
   ],
   "source": [
    "directory = os.getcwd()\n",
    "directory"
   ]
  },
  {
   "cell_type": "code",
   "execution_count": 3,
   "id": "5defa9a6-9e08-4606-bb2c-3aeb592cda87",
   "metadata": {
    "tags": []
   },
   "outputs": [
    {
     "data": {
      "text/html": [
       "<div>\n",
       "<style scoped>\n",
       "    .dataframe tbody tr th:only-of-type {\n",
       "        vertical-align: middle;\n",
       "    }\n",
       "\n",
       "    .dataframe tbody tr th {\n",
       "        vertical-align: top;\n",
       "    }\n",
       "\n",
       "    .dataframe thead th {\n",
       "        text-align: right;\n",
       "    }\n",
       "</style>\n",
       "<table border=\"1\" class=\"dataframe\">\n",
       "  <thead>\n",
       "    <tr style=\"text-align: right;\">\n",
       "      <th></th>\n",
       "      <th>user_id</th>\n",
       "      <th>signup_time</th>\n",
       "      <th>purchase_time</th>\n",
       "      <th>purchase_value</th>\n",
       "      <th>device_id</th>\n",
       "      <th>source</th>\n",
       "      <th>browser</th>\n",
       "      <th>sex</th>\n",
       "      <th>age</th>\n",
       "      <th>ip_address</th>\n",
       "      <th>...</th>\n",
       "      <th>purchase_time_date</th>\n",
       "      <th>time_to_purchase</th>\n",
       "      <th>purchase_value_max</th>\n",
       "      <th>purchase_value_min</th>\n",
       "      <th>purchase_value_avg</th>\n",
       "      <th>purchase_value_std</th>\n",
       "      <th>max_min_diff</th>\n",
       "      <th>user_id_count</th>\n",
       "      <th>country</th>\n",
       "      <th>device_id_ip_count_total</th>\n",
       "    </tr>\n",
       "  </thead>\n",
       "  <tbody>\n",
       "    <tr>\n",
       "      <th>0</th>\n",
       "      <td>285108</td>\n",
       "      <td>7/15/2015 4:36</td>\n",
       "      <td>9/10/2015 14:17</td>\n",
       "      <td>31</td>\n",
       "      <td>HZAKVUFTDOSFD</td>\n",
       "      <td>Direct</td>\n",
       "      <td>Chrome</td>\n",
       "      <td>M</td>\n",
       "      <td>49</td>\n",
       "      <td>2.818400e+09</td>\n",
       "      <td>...</td>\n",
       "      <td>2015-09-10</td>\n",
       "      <td>57</td>\n",
       "      <td>40</td>\n",
       "      <td>31</td>\n",
       "      <td>35.5</td>\n",
       "      <td>6.363961</td>\n",
       "      <td>9</td>\n",
       "      <td>2</td>\n",
       "      <td>United States</td>\n",
       "      <td>2</td>\n",
       "    </tr>\n",
       "    <tr>\n",
       "      <th>1</th>\n",
       "      <td>131009</td>\n",
       "      <td>1/24/2015 12:29</td>\n",
       "      <td>4/13/2015 4:53</td>\n",
       "      <td>31</td>\n",
       "      <td>XGQAJSOUJIZCC</td>\n",
       "      <td>SEO</td>\n",
       "      <td>IE</td>\n",
       "      <td>F</td>\n",
       "      <td>21</td>\n",
       "      <td>3.251268e+09</td>\n",
       "      <td>...</td>\n",
       "      <td>2015-04-13</td>\n",
       "      <td>79</td>\n",
       "      <td>31</td>\n",
       "      <td>31</td>\n",
       "      <td>31.0</td>\n",
       "      <td>0.000000</td>\n",
       "      <td>0</td>\n",
       "      <td>1</td>\n",
       "      <td>United Kingdom</td>\n",
       "      <td>1</td>\n",
       "    </tr>\n",
       "    <tr>\n",
       "      <th>2</th>\n",
       "      <td>328855</td>\n",
       "      <td>3/11/2015 0:54</td>\n",
       "      <td>4/5/2015 12:23</td>\n",
       "      <td>16</td>\n",
       "      <td>VCCTAYDCWKZIY</td>\n",
       "      <td>Direct</td>\n",
       "      <td>IE</td>\n",
       "      <td>M</td>\n",
       "      <td>26</td>\n",
       "      <td>2.727760e+09</td>\n",
       "      <td>...</td>\n",
       "      <td>2015-04-05</td>\n",
       "      <td>25</td>\n",
       "      <td>16</td>\n",
       "      <td>16</td>\n",
       "      <td>16.0</td>\n",
       "      <td>0.000000</td>\n",
       "      <td>0</td>\n",
       "      <td>1</td>\n",
       "      <td>United States</td>\n",
       "      <td>1</td>\n",
       "    </tr>\n",
       "    <tr>\n",
       "      <th>3</th>\n",
       "      <td>229053</td>\n",
       "      <td>1/7/2015 13:19</td>\n",
       "      <td>1/9/2015 10:12</td>\n",
       "      <td>29</td>\n",
       "      <td>MFFIHYNXCJLEY</td>\n",
       "      <td>SEO</td>\n",
       "      <td>Chrome</td>\n",
       "      <td>M</td>\n",
       "      <td>34</td>\n",
       "      <td>2.083420e+09</td>\n",
       "      <td>...</td>\n",
       "      <td>2015-01-09</td>\n",
       "      <td>2</td>\n",
       "      <td>29</td>\n",
       "      <td>29</td>\n",
       "      <td>29.0</td>\n",
       "      <td>0.000000</td>\n",
       "      <td>0</td>\n",
       "      <td>1</td>\n",
       "      <td>Korea Republic of</td>\n",
       "      <td>1</td>\n",
       "    </tr>\n",
       "    <tr>\n",
       "      <th>4</th>\n",
       "      <td>108439</td>\n",
       "      <td>2/8/2015 21:11</td>\n",
       "      <td>4/9/2015 14:26</td>\n",
       "      <td>26</td>\n",
       "      <td>WMSXWGVPNIFBM</td>\n",
       "      <td>Ads</td>\n",
       "      <td>FireFox</td>\n",
       "      <td>M</td>\n",
       "      <td>33</td>\n",
       "      <td>3.207913e+09</td>\n",
       "      <td>...</td>\n",
       "      <td>2015-04-09</td>\n",
       "      <td>60</td>\n",
       "      <td>26</td>\n",
       "      <td>26</td>\n",
       "      <td>26.0</td>\n",
       "      <td>0.000000</td>\n",
       "      <td>0</td>\n",
       "      <td>1</td>\n",
       "      <td>Brazil</td>\n",
       "      <td>1</td>\n",
       "    </tr>\n",
       "  </tbody>\n",
       "</table>\n",
       "<p>5 rows × 22 columns</p>\n",
       "</div>"
      ],
      "text/plain": [
       "   user_id      signup_time    purchase_time  purchase_value      device_id  \\\n",
       "0   285108   7/15/2015 4:36  9/10/2015 14:17              31  HZAKVUFTDOSFD   \n",
       "1   131009  1/24/2015 12:29   4/13/2015 4:53              31  XGQAJSOUJIZCC   \n",
       "2   328855   3/11/2015 0:54   4/5/2015 12:23              16  VCCTAYDCWKZIY   \n",
       "3   229053   1/7/2015 13:19   1/9/2015 10:12              29  MFFIHYNXCJLEY   \n",
       "4   108439   2/8/2015 21:11   4/9/2015 14:26              26  WMSXWGVPNIFBM   \n",
       "\n",
       "   source  browser sex  age    ip_address  ...  purchase_time_date  \\\n",
       "0  Direct   Chrome   M   49  2.818400e+09  ...          2015-09-10   \n",
       "1     SEO       IE   F   21  3.251268e+09  ...          2015-04-13   \n",
       "2  Direct       IE   M   26  2.727760e+09  ...          2015-04-05   \n",
       "3     SEO   Chrome   M   34  2.083420e+09  ...          2015-01-09   \n",
       "4     Ads  FireFox   M   33  3.207913e+09  ...          2015-04-09   \n",
       "\n",
       "  time_to_purchase purchase_value_max  purchase_value_min  purchase_value_avg  \\\n",
       "0               57                 40                  31                35.5   \n",
       "1               79                 31                  31                31.0   \n",
       "2               25                 16                  16                16.0   \n",
       "3                2                 29                  29                29.0   \n",
       "4               60                 26                  26                26.0   \n",
       "\n",
       "   purchase_value_std  max_min_diff  user_id_count            country  \\\n",
       "0            6.363961             9              2      United States   \n",
       "1            0.000000             0              1     United Kingdom   \n",
       "2            0.000000             0              1      United States   \n",
       "3            0.000000             0              1  Korea Republic of   \n",
       "4            0.000000             0              1             Brazil   \n",
       "\n",
       "   device_id_ip_count_total  \n",
       "0                         2  \n",
       "1                         1  \n",
       "2                         1  \n",
       "3                         1  \n",
       "4                         1  \n",
       "\n",
       "[5 rows x 22 columns]"
      ]
     },
     "execution_count": 3,
     "metadata": {},
     "output_type": "execute_result"
    }
   ],
   "source": [
    "fraud_data = pd.read_csv(directory + '/dataset/df_final.csv', index_col=0)\n",
    "fraud_data.head()"
   ]
  },
  {
   "cell_type": "markdown",
   "id": "37af346c-09fd-41e3-ae20-256c7675948b",
   "metadata": {},
   "source": [
    "## preprocess"
   ]
  },
  {
   "cell_type": "code",
   "execution_count": 4,
   "id": "fde910ec-00dd-4668-8a26-cdc22e92dd54",
   "metadata": {},
   "outputs": [
    {
     "name": "stdout",
     "output_type": "stream",
     "text": [
      "<class 'pandas.core.frame.DataFrame'>\n",
      "Int64Index: 120000 entries, 0 to 119999\n",
      "Data columns (total 22 columns):\n",
      " #   Column                    Non-Null Count   Dtype  \n",
      "---  ------                    --------------   -----  \n",
      " 0   user_id                   120000 non-null  int64  \n",
      " 1   signup_time               120000 non-null  object \n",
      " 2   purchase_time             120000 non-null  object \n",
      " 3   purchase_value            120000 non-null  int64  \n",
      " 4   device_id                 120000 non-null  object \n",
      " 5   source                    120000 non-null  object \n",
      " 6   browser                   120000 non-null  object \n",
      " 7   sex                       120000 non-null  object \n",
      " 8   age                       120000 non-null  int64  \n",
      " 9   ip_address                120000 non-null  float64\n",
      " 10  class                     120000 non-null  int64  \n",
      " 11  signup_time_date          120000 non-null  object \n",
      " 12  purchase_time_date        120000 non-null  object \n",
      " 13  time_to_purchase          120000 non-null  int64  \n",
      " 14  purchase_value_max        120000 non-null  int64  \n",
      " 15  purchase_value_min        120000 non-null  int64  \n",
      " 16  purchase_value_avg        120000 non-null  float64\n",
      " 17  purchase_value_std        120000 non-null  float64\n",
      " 18  max_min_diff              120000 non-null  int64  \n",
      " 19  user_id_count             120000 non-null  int64  \n",
      " 20  country                   102582 non-null  object \n",
      " 21  device_id_ip_count_total  120000 non-null  int64  \n",
      "dtypes: float64(3), int64(10), object(9)\n",
      "memory usage: 16.9+ MB\n"
     ]
    }
   ],
   "source": [
    "fraud_data.info()"
   ]
  },
  {
   "cell_type": "markdown",
   "id": "95026167-fc7f-4824-ba45-686426717467",
   "metadata": {},
   "source": [
    "#### make month for signup"
   ]
  },
  {
   "cell_type": "code",
   "execution_count": 5,
   "id": "7e12b57d-81d2-4b06-97f0-f6db27cf1dfb",
   "metadata": {
    "tags": []
   },
   "outputs": [
    {
     "data": {
      "text/plain": [
       "'2015-07-15'"
      ]
     },
     "execution_count": 5,
     "metadata": {},
     "output_type": "execute_result"
    }
   ],
   "source": [
    "fraud_data['signup_time_date'][0]"
   ]
  },
  {
   "cell_type": "code",
   "execution_count": 6,
   "id": "a6377d23-4022-4374-9e7e-929e73377d00",
   "metadata": {
    "tags": []
   },
   "outputs": [
    {
     "data": {
      "text/plain": [
       "str"
      ]
     },
     "execution_count": 6,
     "metadata": {},
     "output_type": "execute_result"
    }
   ],
   "source": [
    "type(fraud_data['signup_time_date'][0])"
   ]
  },
  {
   "cell_type": "code",
   "execution_count": 7,
   "id": "cd247924-0819-4e38-af52-ecfb00d7cf36",
   "metadata": {
    "tags": []
   },
   "outputs": [
    {
     "data": {
      "text/plain": [
       "'07'"
      ]
     },
     "execution_count": 7,
     "metadata": {},
     "output_type": "execute_result"
    }
   ],
   "source": [
    "fraud_data['signup_time_date'][0].split('-')[1]"
   ]
  },
  {
   "cell_type": "code",
   "execution_count": 8,
   "id": "42dec232-e418-4745-b9f3-fab91a478c1a",
   "metadata": {
    "tags": []
   },
   "outputs": [
    {
     "data": {
      "text/plain": [
       "0         09\n",
       "1         04\n",
       "2         04\n",
       "3         01\n",
       "4         04\n",
       "          ..\n",
       "119995    04\n",
       "119996    08\n",
       "119997    09\n",
       "119998    06\n",
       "119999    09\n",
       "Name: purchase_month, Length: 120000, dtype: object"
      ]
     },
     "execution_count": 8,
     "metadata": {},
     "output_type": "execute_result"
    }
   ],
   "source": [
    "fraud_data['purchase_month'] = fraud_data['purchase_time_date'].map(lambda x : x.split('-')[1])\n",
    "fraud_data['purchase_month']"
   ]
  },
  {
   "cell_type": "code",
   "execution_count": 9,
   "id": "501a1c53-f83a-4086-95dd-95f7e12c23f0",
   "metadata": {
    "tags": []
   },
   "outputs": [
    {
     "data": {
      "text/plain": [
       "0         07\n",
       "1         01\n",
       "2         03\n",
       "3         01\n",
       "4         02\n",
       "          ..\n",
       "119995    02\n",
       "119996    08\n",
       "119997    07\n",
       "119998    04\n",
       "119999    07\n",
       "Name: signup_month, Length: 120000, dtype: object"
      ]
     },
     "execution_count": 9,
     "metadata": {},
     "output_type": "execute_result"
    }
   ],
   "source": [
    "fraud_data['signup_month'] = fraud_data['signup_time_date'].map(lambda x : x.split('-')[1])\n",
    "fraud_data['signup_month']"
   ]
  },
  {
   "cell_type": "markdown",
   "id": "d0b41bc2-8627-406a-83dd-2e5f91ea3262",
   "metadata": {},
   "source": [
    "### make dummy data"
   ]
  },
  {
   "cell_type": "code",
   "execution_count": 10,
   "id": "1b7807bc-42c0-4b60-bf00-ecc76cc395ac",
   "metadata": {
    "tags": []
   },
   "outputs": [
    {
     "data": {
      "text/html": [
       "<div>\n",
       "<style scoped>\n",
       "    .dataframe tbody tr th:only-of-type {\n",
       "        vertical-align: middle;\n",
       "    }\n",
       "\n",
       "    .dataframe tbody tr th {\n",
       "        vertical-align: top;\n",
       "    }\n",
       "\n",
       "    .dataframe thead th {\n",
       "        text-align: right;\n",
       "    }\n",
       "</style>\n",
       "<table border=\"1\" class=\"dataframe\">\n",
       "  <thead>\n",
       "    <tr style=\"text-align: right;\">\n",
       "      <th></th>\n",
       "      <th>user_id</th>\n",
       "      <th>signup_time</th>\n",
       "      <th>purchase_time</th>\n",
       "      <th>purchase_value</th>\n",
       "      <th>device_id</th>\n",
       "      <th>age</th>\n",
       "      <th>ip_address</th>\n",
       "      <th>class</th>\n",
       "      <th>signup_time_date</th>\n",
       "      <th>purchase_time_date</th>\n",
       "      <th>...</th>\n",
       "      <th>purchase_09</th>\n",
       "      <th>purchase_10</th>\n",
       "      <th>purchase_11</th>\n",
       "      <th>purchase_12</th>\n",
       "      <th>Direct</th>\n",
       "      <th>SEO</th>\n",
       "      <th>FireFox</th>\n",
       "      <th>IE</th>\n",
       "      <th>Opera</th>\n",
       "      <th>Safari</th>\n",
       "    </tr>\n",
       "  </thead>\n",
       "  <tbody>\n",
       "    <tr>\n",
       "      <th>0</th>\n",
       "      <td>285108</td>\n",
       "      <td>7/15/2015 4:36</td>\n",
       "      <td>9/10/2015 14:17</td>\n",
       "      <td>31</td>\n",
       "      <td>HZAKVUFTDOSFD</td>\n",
       "      <td>49</td>\n",
       "      <td>2.818400e+09</td>\n",
       "      <td>0</td>\n",
       "      <td>2015-07-15</td>\n",
       "      <td>2015-09-10</td>\n",
       "      <td>...</td>\n",
       "      <td>1</td>\n",
       "      <td>0</td>\n",
       "      <td>0</td>\n",
       "      <td>0</td>\n",
       "      <td>1</td>\n",
       "      <td>0</td>\n",
       "      <td>0</td>\n",
       "      <td>0</td>\n",
       "      <td>0</td>\n",
       "      <td>0</td>\n",
       "    </tr>\n",
       "    <tr>\n",
       "      <th>1</th>\n",
       "      <td>131009</td>\n",
       "      <td>1/24/2015 12:29</td>\n",
       "      <td>4/13/2015 4:53</td>\n",
       "      <td>31</td>\n",
       "      <td>XGQAJSOUJIZCC</td>\n",
       "      <td>21</td>\n",
       "      <td>3.251268e+09</td>\n",
       "      <td>0</td>\n",
       "      <td>2015-01-24</td>\n",
       "      <td>2015-04-13</td>\n",
       "      <td>...</td>\n",
       "      <td>0</td>\n",
       "      <td>0</td>\n",
       "      <td>0</td>\n",
       "      <td>0</td>\n",
       "      <td>0</td>\n",
       "      <td>1</td>\n",
       "      <td>0</td>\n",
       "      <td>1</td>\n",
       "      <td>0</td>\n",
       "      <td>0</td>\n",
       "    </tr>\n",
       "    <tr>\n",
       "      <th>2</th>\n",
       "      <td>328855</td>\n",
       "      <td>3/11/2015 0:54</td>\n",
       "      <td>4/5/2015 12:23</td>\n",
       "      <td>16</td>\n",
       "      <td>VCCTAYDCWKZIY</td>\n",
       "      <td>26</td>\n",
       "      <td>2.727760e+09</td>\n",
       "      <td>0</td>\n",
       "      <td>2015-03-11</td>\n",
       "      <td>2015-04-05</td>\n",
       "      <td>...</td>\n",
       "      <td>0</td>\n",
       "      <td>0</td>\n",
       "      <td>0</td>\n",
       "      <td>0</td>\n",
       "      <td>1</td>\n",
       "      <td>0</td>\n",
       "      <td>0</td>\n",
       "      <td>1</td>\n",
       "      <td>0</td>\n",
       "      <td>0</td>\n",
       "    </tr>\n",
       "    <tr>\n",
       "      <th>3</th>\n",
       "      <td>229053</td>\n",
       "      <td>1/7/2015 13:19</td>\n",
       "      <td>1/9/2015 10:12</td>\n",
       "      <td>29</td>\n",
       "      <td>MFFIHYNXCJLEY</td>\n",
       "      <td>34</td>\n",
       "      <td>2.083420e+09</td>\n",
       "      <td>0</td>\n",
       "      <td>2015-01-07</td>\n",
       "      <td>2015-01-09</td>\n",
       "      <td>...</td>\n",
       "      <td>0</td>\n",
       "      <td>0</td>\n",
       "      <td>0</td>\n",
       "      <td>0</td>\n",
       "      <td>0</td>\n",
       "      <td>1</td>\n",
       "      <td>0</td>\n",
       "      <td>0</td>\n",
       "      <td>0</td>\n",
       "      <td>0</td>\n",
       "    </tr>\n",
       "    <tr>\n",
       "      <th>4</th>\n",
       "      <td>108439</td>\n",
       "      <td>2/8/2015 21:11</td>\n",
       "      <td>4/9/2015 14:26</td>\n",
       "      <td>26</td>\n",
       "      <td>WMSXWGVPNIFBM</td>\n",
       "      <td>33</td>\n",
       "      <td>3.207913e+09</td>\n",
       "      <td>0</td>\n",
       "      <td>2015-02-08</td>\n",
       "      <td>2015-04-09</td>\n",
       "      <td>...</td>\n",
       "      <td>0</td>\n",
       "      <td>0</td>\n",
       "      <td>0</td>\n",
       "      <td>0</td>\n",
       "      <td>0</td>\n",
       "      <td>0</td>\n",
       "      <td>1</td>\n",
       "      <td>0</td>\n",
       "      <td>0</td>\n",
       "      <td>0</td>\n",
       "    </tr>\n",
       "  </tbody>\n",
       "</table>\n",
       "<p>5 rows × 44 columns</p>\n",
       "</div>"
      ],
      "text/plain": [
       "   user_id      signup_time    purchase_time  purchase_value      device_id  \\\n",
       "0   285108   7/15/2015 4:36  9/10/2015 14:17              31  HZAKVUFTDOSFD   \n",
       "1   131009  1/24/2015 12:29   4/13/2015 4:53              31  XGQAJSOUJIZCC   \n",
       "2   328855   3/11/2015 0:54   4/5/2015 12:23              16  VCCTAYDCWKZIY   \n",
       "3   229053   1/7/2015 13:19   1/9/2015 10:12              29  MFFIHYNXCJLEY   \n",
       "4   108439   2/8/2015 21:11   4/9/2015 14:26              26  WMSXWGVPNIFBM   \n",
       "\n",
       "   age    ip_address  class signup_time_date purchase_time_date  ...  \\\n",
       "0   49  2.818400e+09      0       2015-07-15         2015-09-10  ...   \n",
       "1   21  3.251268e+09      0       2015-01-24         2015-04-13  ...   \n",
       "2   26  2.727760e+09      0       2015-03-11         2015-04-05  ...   \n",
       "3   34  2.083420e+09      0       2015-01-07         2015-01-09  ...   \n",
       "4   33  3.207913e+09      0       2015-02-08         2015-04-09  ...   \n",
       "\n",
       "   purchase_09  purchase_10  purchase_11  purchase_12  Direct  SEO  FireFox  \\\n",
       "0            1            0            0            0       1    0        0   \n",
       "1            0            0            0            0       0    1        0   \n",
       "2            0            0            0            0       1    0        0   \n",
       "3            0            0            0            0       0    1        0   \n",
       "4            0            0            0            0       0    0        1   \n",
       "\n",
       "  IE  Opera  Safari  \n",
       "0  0      0       0  \n",
       "1  1      0       0  \n",
       "2  1      0       0  \n",
       "3  0      0       0  \n",
       "4  0      0       0  \n",
       "\n",
       "[5 rows x 44 columns]"
      ]
     },
     "execution_count": 10,
     "metadata": {},
     "output_type": "execute_result"
    }
   ],
   "source": [
    "gender_dummy         = pd.get_dummies(fraud_data.sex, drop_first = True)\n",
    "signup_month_dummy   = pd.get_dummies(fraud_data.signup_month, drop_first = True, prefix = 'signup')\n",
    "purchase_month_dummy = pd.get_dummies(fraud_data.purchase_month, drop_first = True, prefix = 'purchase')\n",
    "source_dummy         = pd.get_dummies(fraud_data.source, drop_first = True)\n",
    "browser_dummy        = pd.get_dummies(fraud_data.browser, drop_first = True)\n",
    "\n",
    "fraud_data = fraud_data.drop(['sex','signup_month', 'purchase_month', 'source','browser'], axis=1)\n",
    "\n",
    "final = pd.concat([fraud_data, gender_dummy, signup_month_dummy, purchase_month_dummy, source_dummy, browser_dummy], axis=1)\n",
    "final.head()"
   ]
  },
  {
   "cell_type": "markdown",
   "id": "671f542c-e513-4efa-adde-ea9c3dec5b63",
   "metadata": {},
   "source": [
    "## selected features\n",
    "- date related features\n",
    "    - signup_time_month dummy\n",
    "    - purchase_time_month dummy\n",
    "    - time_to_purchase\n",
    "- purchase_value related features\n",
    "    - group by device_id\n",
    "    - purchase_value_{}\n",
    "        - max, min, avg, std, max_min_diff\n",
    "- user related feature\n",
    "    - sex dummy\n",
    "    - age\n",
    "    - browser dummy\n",
    "    - source dummy\n",
    "    - the number of user_id connected to the device id"
   ]
  },
  {
   "cell_type": "code",
   "execution_count": 12,
   "id": "5d262ab4-f47f-4ce6-9649-2cecda149838",
   "metadata": {
    "tags": []
   },
   "outputs": [
    {
     "data": {
      "text/plain": [
       "Index(['user_id', 'signup_time', 'purchase_time', 'purchase_value',\n",
       "       'device_id', 'age', 'ip_address', 'class', 'signup_time_date',\n",
       "       'purchase_time_date', 'time_to_purchase', 'purchase_value_max',\n",
       "       'purchase_value_min', 'purchase_value_avg', 'purchase_value_std',\n",
       "       'max_min_diff', 'user_id_count', 'country', 'device_id_ip_count_total',\n",
       "       'M', 'signup_02', 'signup_03', 'signup_04', 'signup_05', 'signup_06',\n",
       "       'signup_07', 'signup_08', 'purchase_02', 'purchase_03', 'purchase_04',\n",
       "       'purchase_05', 'purchase_06', 'purchase_07', 'purchase_08',\n",
       "       'purchase_09', 'purchase_10', 'purchase_11', 'purchase_12', 'Direct',\n",
       "       'SEO', 'FireFox', 'IE', 'Opera', 'Safari'],\n",
       "      dtype='object')"
      ]
     },
     "execution_count": 12,
     "metadata": {},
     "output_type": "execute_result"
    }
   ],
   "source": [
    "final.columns"
   ]
  },
  {
   "cell_type": "code",
   "execution_count": 13,
   "id": "c2ce7a2f-fe2f-47f7-a174-973c0c648b04",
   "metadata": {
    "tags": []
   },
   "outputs": [
    {
     "data": {
      "text/plain": [
       "Index(['user_id', 'purchase_value', 'age', 'class', 'time_to_purchase',\n",
       "       'purchase_value_max', 'purchase_value_min', 'purchase_value_avg',\n",
       "       'purchase_value_std', 'max_min_diff', 'user_id_count',\n",
       "       'device_id_ip_count_total', 'M', 'signup_02', 'signup_03', 'signup_04',\n",
       "       'signup_05', 'signup_06', 'signup_07', 'signup_08', 'purchase_02',\n",
       "       'purchase_03', 'purchase_04', 'purchase_05', 'purchase_06',\n",
       "       'purchase_07', 'purchase_08', 'purchase_09', 'purchase_10',\n",
       "       'purchase_11', 'purchase_12', 'Direct', 'SEO', 'FireFox', 'IE', 'Opera',\n",
       "       'Safari'],\n",
       "      dtype='object')"
      ]
     },
     "execution_count": 13,
     "metadata": {},
     "output_type": "execute_result"
    }
   ],
   "source": [
    "final = final.drop(['signup_time', 'purchase_time', 'device_id', 'ip_address', 'signup_time_date', 'purchase_time_date', 'country'], axis = 1)\n",
    "final.columns"
   ]
  },
  {
   "cell_type": "markdown",
   "id": "93ae06a0-53d3-4c2e-bb5d-49bc1a3b6fe7",
   "metadata": {},
   "source": [
    "## deal with highly imbalanced data\n",
    "\n",
    "- undesr sampling\n",
    "    - can be balanced but lot of informations are lost\n",
    "- over sampling\n",
    "    - can be balanced but incorrect data could be input for learning\n",
    "- In this questions...\n",
    "    - **split class=0 data into 5 peaces to make 5 diffenrect dataset** with same class=1 data"
   ]
  },
  {
   "cell_type": "code",
   "execution_count": 14,
   "id": "9191c03f-1471-4043-a855-c3c4af7f7dd9",
   "metadata": {
    "tags": []
   },
   "outputs": [],
   "source": [
    "final_0 = final.loc[final['class'] == 0,]\n",
    "final_1 = final.loc[final['class'] == 1,]"
   ]
  },
  {
   "cell_type": "code",
   "execution_count": 15,
   "id": "d28da5b4-0dc3-4545-b1bf-ca23fed142d4",
   "metadata": {
    "tags": []
   },
   "outputs": [
    {
     "data": {
      "text/html": [
       "<div>\n",
       "<style scoped>\n",
       "    .dataframe tbody tr th:only-of-type {\n",
       "        vertical-align: middle;\n",
       "    }\n",
       "\n",
       "    .dataframe tbody tr th {\n",
       "        vertical-align: top;\n",
       "    }\n",
       "\n",
       "    .dataframe thead th {\n",
       "        text-align: right;\n",
       "    }\n",
       "</style>\n",
       "<table border=\"1\" class=\"dataframe\">\n",
       "  <thead>\n",
       "    <tr style=\"text-align: right;\">\n",
       "      <th></th>\n",
       "      <th>user_id</th>\n",
       "      <th>purchase_value</th>\n",
       "      <th>age</th>\n",
       "      <th>class</th>\n",
       "      <th>time_to_purchase</th>\n",
       "      <th>purchase_value_max</th>\n",
       "      <th>purchase_value_min</th>\n",
       "      <th>purchase_value_avg</th>\n",
       "      <th>purchase_value_std</th>\n",
       "      <th>max_min_diff</th>\n",
       "      <th>...</th>\n",
       "      <th>purchase_09</th>\n",
       "      <th>purchase_10</th>\n",
       "      <th>purchase_11</th>\n",
       "      <th>purchase_12</th>\n",
       "      <th>Direct</th>\n",
       "      <th>SEO</th>\n",
       "      <th>FireFox</th>\n",
       "      <th>IE</th>\n",
       "      <th>Opera</th>\n",
       "      <th>Safari</th>\n",
       "    </tr>\n",
       "  </thead>\n",
       "  <tbody>\n",
       "    <tr>\n",
       "      <th>0</th>\n",
       "      <td>79863</td>\n",
       "      <td>26</td>\n",
       "      <td>39</td>\n",
       "      <td>0</td>\n",
       "      <td>91</td>\n",
       "      <td>26</td>\n",
       "      <td>26</td>\n",
       "      <td>26.0</td>\n",
       "      <td>0.0</td>\n",
       "      <td>0</td>\n",
       "      <td>...</td>\n",
       "      <td>0</td>\n",
       "      <td>0</td>\n",
       "      <td>0</td>\n",
       "      <td>0</td>\n",
       "      <td>0</td>\n",
       "      <td>0</td>\n",
       "      <td>0</td>\n",
       "      <td>0</td>\n",
       "      <td>0</td>\n",
       "      <td>0</td>\n",
       "    </tr>\n",
       "    <tr>\n",
       "      <th>1</th>\n",
       "      <td>17423</td>\n",
       "      <td>40</td>\n",
       "      <td>30</td>\n",
       "      <td>0</td>\n",
       "      <td>94</td>\n",
       "      <td>40</td>\n",
       "      <td>40</td>\n",
       "      <td>40.0</td>\n",
       "      <td>0.0</td>\n",
       "      <td>0</td>\n",
       "      <td>...</td>\n",
       "      <td>0</td>\n",
       "      <td>0</td>\n",
       "      <td>0</td>\n",
       "      <td>0</td>\n",
       "      <td>0</td>\n",
       "      <td>0</td>\n",
       "      <td>0</td>\n",
       "      <td>0</td>\n",
       "      <td>0</td>\n",
       "      <td>0</td>\n",
       "    </tr>\n",
       "    <tr>\n",
       "      <th>2</th>\n",
       "      <td>169447</td>\n",
       "      <td>52</td>\n",
       "      <td>35</td>\n",
       "      <td>0</td>\n",
       "      <td>59</td>\n",
       "      <td>52</td>\n",
       "      <td>52</td>\n",
       "      <td>52.0</td>\n",
       "      <td>0.0</td>\n",
       "      <td>0</td>\n",
       "      <td>...</td>\n",
       "      <td>0</td>\n",
       "      <td>0</td>\n",
       "      <td>0</td>\n",
       "      <td>0</td>\n",
       "      <td>0</td>\n",
       "      <td>1</td>\n",
       "      <td>0</td>\n",
       "      <td>1</td>\n",
       "      <td>0</td>\n",
       "      <td>0</td>\n",
       "    </tr>\n",
       "    <tr>\n",
       "      <th>3</th>\n",
       "      <td>209396</td>\n",
       "      <td>76</td>\n",
       "      <td>35</td>\n",
       "      <td>0</td>\n",
       "      <td>66</td>\n",
       "      <td>76</td>\n",
       "      <td>76</td>\n",
       "      <td>76.0</td>\n",
       "      <td>0.0</td>\n",
       "      <td>0</td>\n",
       "      <td>...</td>\n",
       "      <td>0</td>\n",
       "      <td>0</td>\n",
       "      <td>0</td>\n",
       "      <td>0</td>\n",
       "      <td>0</td>\n",
       "      <td>1</td>\n",
       "      <td>0</td>\n",
       "      <td>0</td>\n",
       "      <td>0</td>\n",
       "      <td>1</td>\n",
       "    </tr>\n",
       "    <tr>\n",
       "      <th>4</th>\n",
       "      <td>336312</td>\n",
       "      <td>22</td>\n",
       "      <td>27</td>\n",
       "      <td>0</td>\n",
       "      <td>31</td>\n",
       "      <td>22</td>\n",
       "      <td>22</td>\n",
       "      <td>22.0</td>\n",
       "      <td>0.0</td>\n",
       "      <td>0</td>\n",
       "      <td>...</td>\n",
       "      <td>0</td>\n",
       "      <td>0</td>\n",
       "      <td>0</td>\n",
       "      <td>0</td>\n",
       "      <td>0</td>\n",
       "      <td>1</td>\n",
       "      <td>0</td>\n",
       "      <td>0</td>\n",
       "      <td>0</td>\n",
       "      <td>1</td>\n",
       "    </tr>\n",
       "    <tr>\n",
       "      <th>...</th>\n",
       "      <td>...</td>\n",
       "      <td>...</td>\n",
       "      <td>...</td>\n",
       "      <td>...</td>\n",
       "      <td>...</td>\n",
       "      <td>...</td>\n",
       "      <td>...</td>\n",
       "      <td>...</td>\n",
       "      <td>...</td>\n",
       "      <td>...</td>\n",
       "      <td>...</td>\n",
       "      <td>...</td>\n",
       "      <td>...</td>\n",
       "      <td>...</td>\n",
       "      <td>...</td>\n",
       "      <td>...</td>\n",
       "      <td>...</td>\n",
       "      <td>...</td>\n",
       "      <td>...</td>\n",
       "      <td>...</td>\n",
       "      <td>...</td>\n",
       "    </tr>\n",
       "    <tr>\n",
       "      <th>108730</th>\n",
       "      <td>270900</td>\n",
       "      <td>28</td>\n",
       "      <td>33</td>\n",
       "      <td>0</td>\n",
       "      <td>3</td>\n",
       "      <td>28</td>\n",
       "      <td>28</td>\n",
       "      <td>28.0</td>\n",
       "      <td>0.0</td>\n",
       "      <td>0</td>\n",
       "      <td>...</td>\n",
       "      <td>0</td>\n",
       "      <td>0</td>\n",
       "      <td>0</td>\n",
       "      <td>0</td>\n",
       "      <td>1</td>\n",
       "      <td>0</td>\n",
       "      <td>0</td>\n",
       "      <td>1</td>\n",
       "      <td>0</td>\n",
       "      <td>0</td>\n",
       "    </tr>\n",
       "    <tr>\n",
       "      <th>108731</th>\n",
       "      <td>383037</td>\n",
       "      <td>62</td>\n",
       "      <td>36</td>\n",
       "      <td>0</td>\n",
       "      <td>94</td>\n",
       "      <td>62</td>\n",
       "      <td>62</td>\n",
       "      <td>62.0</td>\n",
       "      <td>0.0</td>\n",
       "      <td>0</td>\n",
       "      <td>...</td>\n",
       "      <td>0</td>\n",
       "      <td>0</td>\n",
       "      <td>0</td>\n",
       "      <td>0</td>\n",
       "      <td>0</td>\n",
       "      <td>1</td>\n",
       "      <td>0</td>\n",
       "      <td>0</td>\n",
       "      <td>0</td>\n",
       "      <td>0</td>\n",
       "    </tr>\n",
       "    <tr>\n",
       "      <th>108732</th>\n",
       "      <td>125158</td>\n",
       "      <td>24</td>\n",
       "      <td>21</td>\n",
       "      <td>0</td>\n",
       "      <td>92</td>\n",
       "      <td>24</td>\n",
       "      <td>24</td>\n",
       "      <td>24.0</td>\n",
       "      <td>0.0</td>\n",
       "      <td>0</td>\n",
       "      <td>...</td>\n",
       "      <td>0</td>\n",
       "      <td>0</td>\n",
       "      <td>0</td>\n",
       "      <td>0</td>\n",
       "      <td>0</td>\n",
       "      <td>1</td>\n",
       "      <td>0</td>\n",
       "      <td>0</td>\n",
       "      <td>0</td>\n",
       "      <td>0</td>\n",
       "    </tr>\n",
       "    <tr>\n",
       "      <th>108733</th>\n",
       "      <td>310126</td>\n",
       "      <td>40</td>\n",
       "      <td>49</td>\n",
       "      <td>0</td>\n",
       "      <td>3</td>\n",
       "      <td>40</td>\n",
       "      <td>40</td>\n",
       "      <td>40.0</td>\n",
       "      <td>0.0</td>\n",
       "      <td>0</td>\n",
       "      <td>...</td>\n",
       "      <td>0</td>\n",
       "      <td>0</td>\n",
       "      <td>0</td>\n",
       "      <td>0</td>\n",
       "      <td>1</td>\n",
       "      <td>0</td>\n",
       "      <td>0</td>\n",
       "      <td>0</td>\n",
       "      <td>0</td>\n",
       "      <td>0</td>\n",
       "    </tr>\n",
       "    <tr>\n",
       "      <th>108734</th>\n",
       "      <td>230769</td>\n",
       "      <td>43</td>\n",
       "      <td>33</td>\n",
       "      <td>0</td>\n",
       "      <td>22</td>\n",
       "      <td>43</td>\n",
       "      <td>43</td>\n",
       "      <td>43.0</td>\n",
       "      <td>0.0</td>\n",
       "      <td>0</td>\n",
       "      <td>...</td>\n",
       "      <td>0</td>\n",
       "      <td>0</td>\n",
       "      <td>0</td>\n",
       "      <td>0</td>\n",
       "      <td>0</td>\n",
       "      <td>0</td>\n",
       "      <td>1</td>\n",
       "      <td>0</td>\n",
       "      <td>0</td>\n",
       "      <td>0</td>\n",
       "    </tr>\n",
       "  </tbody>\n",
       "</table>\n",
       "<p>108735 rows × 37 columns</p>\n",
       "</div>"
      ],
      "text/plain": [
       "        user_id  purchase_value  age  class  time_to_purchase  \\\n",
       "0         79863              26   39      0                91   \n",
       "1         17423              40   30      0                94   \n",
       "2        169447              52   35      0                59   \n",
       "3        209396              76   35      0                66   \n",
       "4        336312              22   27      0                31   \n",
       "...         ...             ...  ...    ...               ...   \n",
       "108730   270900              28   33      0                 3   \n",
       "108731   383037              62   36      0                94   \n",
       "108732   125158              24   21      0                92   \n",
       "108733   310126              40   49      0                 3   \n",
       "108734   230769              43   33      0                22   \n",
       "\n",
       "        purchase_value_max  purchase_value_min  purchase_value_avg  \\\n",
       "0                       26                  26                26.0   \n",
       "1                       40                  40                40.0   \n",
       "2                       52                  52                52.0   \n",
       "3                       76                  76                76.0   \n",
       "4                       22                  22                22.0   \n",
       "...                    ...                 ...                 ...   \n",
       "108730                  28                  28                28.0   \n",
       "108731                  62                  62                62.0   \n",
       "108732                  24                  24                24.0   \n",
       "108733                  40                  40                40.0   \n",
       "108734                  43                  43                43.0   \n",
       "\n",
       "        purchase_value_std  max_min_diff  ...  purchase_09  purchase_10  \\\n",
       "0                      0.0             0  ...            0            0   \n",
       "1                      0.0             0  ...            0            0   \n",
       "2                      0.0             0  ...            0            0   \n",
       "3                      0.0             0  ...            0            0   \n",
       "4                      0.0             0  ...            0            0   \n",
       "...                    ...           ...  ...          ...          ...   \n",
       "108730                 0.0             0  ...            0            0   \n",
       "108731                 0.0             0  ...            0            0   \n",
       "108732                 0.0             0  ...            0            0   \n",
       "108733                 0.0             0  ...            0            0   \n",
       "108734                 0.0             0  ...            0            0   \n",
       "\n",
       "        purchase_11  purchase_12  Direct  SEO  FireFox  IE  Opera  Safari  \n",
       "0                 0            0       0    0        0   0      0       0  \n",
       "1                 0            0       0    0        0   0      0       0  \n",
       "2                 0            0       0    1        0   1      0       0  \n",
       "3                 0            0       0    1        0   0      0       1  \n",
       "4                 0            0       0    1        0   0      0       1  \n",
       "...             ...          ...     ...  ...      ...  ..    ...     ...  \n",
       "108730            0            0       1    0        0   1      0       0  \n",
       "108731            0            0       0    1        0   0      0       0  \n",
       "108732            0            0       0    1        0   0      0       0  \n",
       "108733            0            0       1    0        0   0      0       0  \n",
       "108734            0            0       0    0        1   0      0       0  \n",
       "\n",
       "[108735 rows x 37 columns]"
      ]
     },
     "execution_count": 15,
     "metadata": {},
     "output_type": "execute_result"
    }
   ],
   "source": [
    "final_0 = final_0.sample(frac=1).reset_index(drop=True)\n",
    "final_0"
   ]
  },
  {
   "cell_type": "code",
   "execution_count": 16,
   "id": "5804ed88-4253-4bd6-b8e4-ae6cd1288829",
   "metadata": {
    "tags": []
   },
   "outputs": [
    {
     "data": {
      "text/plain": [
       "21747"
      ]
     },
     "execution_count": 16,
     "metadata": {},
     "output_type": "execute_result"
    }
   ],
   "source": [
    "flag = len(final_0)//5\n",
    "flag"
   ]
  },
  {
   "cell_type": "code",
   "execution_count": 17,
   "id": "aa956873-e6b6-4f91-8178-da5d9a5fca16",
   "metadata": {
    "tags": []
   },
   "outputs": [],
   "source": [
    "final_0_1 = final_0.iloc[:flag,:]\n",
    "final_0_2 = final_0.iloc[flag   : flag*2,:]\n",
    "final_0_3 = final_0.iloc[flag*2 : flag*3,:]\n",
    "final_0_4 = final_0.iloc[flag*3 : flag*4,:]\n",
    "final_0_5 = final_0.iloc[flag*4 : :]"
   ]
  },
  {
   "cell_type": "code",
   "execution_count": 18,
   "id": "00a2986e-cd56-4706-bb66-049cb44b3fe2",
   "metadata": {
    "tags": []
   },
   "outputs": [],
   "source": [
    "final__1 = pd.concat([final_0_1, final_1], axis=0).sample(frac=1).reset_index(drop=True)\n",
    "final__2 = pd.concat([final_0_2, final_1], axis=0).sample(frac=1).reset_index(drop=True)\n",
    "final__3 = pd.concat([final_0_3, final_1], axis=0).sample(frac=1).reset_index(drop=True)\n",
    "final__4 = pd.concat([final_0_4, final_1], axis=0).sample(frac=1).reset_index(drop=True)\n",
    "final__5 = pd.concat([final_0_5, final_1], axis=0).sample(frac=1).reset_index(drop=True)"
   ]
  },
  {
   "cell_type": "markdown",
   "id": "272cbd6f-ab94-4114-872f-bbbe3fb73649",
   "metadata": {},
   "source": [
    "## test"
   ]
  },
  {
   "cell_type": "code",
   "execution_count": 19,
   "id": "72071300-459d-49ba-822e-e695b2482f70",
   "metadata": {
    "tags": []
   },
   "outputs": [],
   "source": [
    "X = final__1.drop(['user_id','class'], axis = 1)\n",
    "y = final__1['class']"
   ]
  },
  {
   "cell_type": "code",
   "execution_count": 20,
   "id": "d4ee190b-16c1-47ca-a365-afa3fdeb52f4",
   "metadata": {
    "tags": []
   },
   "outputs": [],
   "source": [
    "X_train, X_test, y_train, y_test = train_test_split(X, y, test_size=0.2, random_state=random_state)"
   ]
  },
  {
   "cell_type": "code",
   "execution_count": 21,
   "id": "2336e9ea-3534-46c7-8799-e17f01a9fd7d",
   "metadata": {
    "tags": []
   },
   "outputs": [],
   "source": [
    "scaler = StandardScaler()\n",
    "\n",
    "X_train_scaled = scaler.fit_transform(X_train)\n",
    "X_test_scaled = scaler.transform(X_test)"
   ]
  },
  {
   "cell_type": "code",
   "execution_count": 22,
   "id": "37bbd579-47ab-4d7f-8c4d-86f38bc2f3b6",
   "metadata": {
    "tags": []
   },
   "outputs": [
    {
     "name": "stdout",
     "output_type": "stream",
     "text": [
      "Fitting 3 folds for each of 25 candidates, totalling 75 fits\n",
      "[CV 1/3] END max_depth=5, max_features=0.7000000000000001, n_estimators=200;, score=0.774 total time=   3.0s\n",
      "[CV 2/3] END max_depth=5, max_features=0.7000000000000001, n_estimators=200;, score=0.761 total time=   3.3s\n",
      "[CV 3/3] END max_depth=5, max_features=0.7000000000000001, n_estimators=200;, score=0.770 total time=   3.4s\n",
      "[CV 1/3] END max_depth=10, max_features=0.6, n_estimators=200;, score=0.769 total time=   5.0s\n",
      "[CV 2/3] END max_depth=10, max_features=0.6, n_estimators=200;, score=0.752 total time=   5.0s\n",
      "[CV 3/3] END max_depth=10, max_features=0.6, n_estimators=200;, score=0.762 total time=   4.9s\n",
      "[CV 1/3] END max_depth=10, max_features=0.1, n_estimators=200;, score=0.769 total time=   1.4s\n",
      "[CV 2/3] END max_depth=10, max_features=0.1, n_estimators=200;, score=0.757 total time=   1.5s\n",
      "[CV 3/3] END max_depth=10, max_features=0.1, n_estimators=200;, score=0.767 total time=   1.4s\n",
      "[CV 1/3] END max_depth=5, max_features=0.30000000000000004, n_estimators=100;, score=0.773 total time=   0.8s\n",
      "[CV 2/3] END max_depth=5, max_features=0.30000000000000004, n_estimators=100;, score=0.761 total time=   0.8s\n",
      "[CV 3/3] END max_depth=5, max_features=0.30000000000000004, n_estimators=100;, score=0.770 total time=   0.8s\n",
      "[CV 1/3] END max_depth=10, max_features=0.1, n_estimators=100;, score=0.769 total time=   0.6s\n",
      "[CV 2/3] END max_depth=10, max_features=0.1, n_estimators=100;, score=0.757 total time=   0.6s\n",
      "[CV 3/3] END max_depth=10, max_features=0.1, n_estimators=100;, score=0.768 total time=   0.7s\n",
      "[CV 1/3] END max_depth=10, max_features=0.8, n_estimators=300;, score=0.769 total time=   9.6s\n",
      "[CV 2/3] END max_depth=10, max_features=0.8, n_estimators=300;, score=0.751 total time=   9.7s\n",
      "[CV 3/3] END max_depth=10, max_features=0.8, n_estimators=300;, score=0.762 total time=  10.1s\n",
      "[CV 1/3] END max_depth=10, max_features=0.5, n_estimators=300;, score=0.769 total time=   6.4s\n",
      "[CV 2/3] END max_depth=10, max_features=0.5, n_estimators=300;, score=0.753 total time=   6.4s\n",
      "[CV 3/3] END max_depth=10, max_features=0.5, n_estimators=300;, score=0.763 total time=   6.7s\n",
      "[CV 1/3] END max_depth=5, max_features=0.2, n_estimators=400;, score=0.773 total time=   2.9s\n",
      "[CV 2/3] END max_depth=5, max_features=0.2, n_estimators=400;, score=0.760 total time=   3.0s\n",
      "[CV 3/3] END max_depth=5, max_features=0.2, n_estimators=400;, score=0.769 total time=   2.9s\n",
      "[CV 1/3] END max_depth=10, max_features=0.6, n_estimators=400;, score=0.769 total time=  10.4s\n",
      "[CV 2/3] END max_depth=10, max_features=0.6, n_estimators=400;, score=0.751 total time=  10.3s\n",
      "[CV 3/3] END max_depth=10, max_features=0.6, n_estimators=400;, score=0.764 total time=  10.6s\n",
      "[CV 1/3] END max_depth=10, max_features=0.6, n_estimators=100;, score=0.768 total time=   2.6s\n",
      "[CV 2/3] END max_depth=10, max_features=0.6, n_estimators=100;, score=0.752 total time=   2.6s\n",
      "[CV 3/3] END max_depth=10, max_features=0.6, n_estimators=100;, score=0.764 total time=   2.6s\n",
      "[CV 1/3] END max_depth=5, max_features=0.8, n_estimators=300;, score=0.774 total time=   5.6s\n",
      "[CV 2/3] END max_depth=5, max_features=0.8, n_estimators=300;, score=0.761 total time=   5.8s\n",
      "[CV 3/3] END max_depth=5, max_features=0.8, n_estimators=300;, score=0.769 total time=   5.7s\n",
      "[CV 1/3] END max_depth=5, max_features=0.6, n_estimators=200;, score=0.773 total time=   3.0s\n",
      "[CV 2/3] END max_depth=5, max_features=0.6, n_estimators=200;, score=0.761 total time=   3.1s\n",
      "[CV 3/3] END max_depth=5, max_features=0.6, n_estimators=200;, score=0.770 total time=   3.0s\n",
      "[CV 1/3] END max_depth=10, max_features=0.7000000000000001, n_estimators=200;, score=0.768 total time=   5.7s\n",
      "[CV 2/3] END max_depth=10, max_features=0.7000000000000001, n_estimators=200;, score=0.754 total time=   5.7s\n",
      "[CV 3/3] END max_depth=10, max_features=0.7000000000000001, n_estimators=200;, score=0.762 total time=   5.7s\n",
      "[CV 1/3] END max_depth=5, max_features=0.4, n_estimators=300;, score=0.773 total time=   3.4s\n",
      "[CV 2/3] END max_depth=5, max_features=0.4, n_estimators=300;, score=0.762 total time=   3.3s\n",
      "[CV 3/3] END max_depth=5, max_features=0.4, n_estimators=300;, score=0.769 total time=   3.4s\n",
      "[CV 1/3] END max_depth=5, max_features=0.2, n_estimators=100;, score=0.772 total time=   0.7s\n",
      "[CV 2/3] END max_depth=5, max_features=0.2, n_estimators=100;, score=0.760 total time=   0.6s\n",
      "[CV 3/3] END max_depth=5, max_features=0.2, n_estimators=100;, score=0.769 total time=   0.6s\n",
      "[CV 1/3] END max_depth=10, max_features=0.2, n_estimators=200;, score=0.771 total time=   2.2s\n",
      "[CV 2/3] END max_depth=10, max_features=0.2, n_estimators=200;, score=0.758 total time=   2.3s\n",
      "[CV 3/3] END max_depth=10, max_features=0.2, n_estimators=200;, score=0.766 total time=   2.3s\n",
      "[CV 1/3] END max_depth=10, max_features=0.7000000000000001, n_estimators=100;, score=0.768 total time=   2.9s\n",
      "[CV 2/3] END max_depth=10, max_features=0.7000000000000001, n_estimators=100;, score=0.753 total time=   2.8s\n",
      "[CV 3/3] END max_depth=10, max_features=0.7000000000000001, n_estimators=100;, score=0.763 total time=   2.9s\n",
      "[CV 1/3] END max_depth=5, max_features=0.7000000000000001, n_estimators=400;, score=0.774 total time=   6.9s\n",
      "[CV 2/3] END max_depth=5, max_features=0.7000000000000001, n_estimators=400;, score=0.761 total time=   6.7s\n",
      "[CV 3/3] END max_depth=5, max_features=0.7000000000000001, n_estimators=400;, score=0.770 total time=   6.7s\n",
      "[CV 1/3] END max_depth=5, max_features=0.2, n_estimators=200;, score=0.773 total time=   1.4s\n",
      "[CV 2/3] END max_depth=5, max_features=0.2, n_estimators=200;, score=0.760 total time=   1.3s\n",
      "[CV 3/3] END max_depth=5, max_features=0.2, n_estimators=200;, score=0.769 total time=   1.4s\n",
      "[CV 1/3] END max_depth=5, max_features=0.5, n_estimators=100;, score=0.773 total time=   1.4s\n",
      "[CV 2/3] END max_depth=5, max_features=0.5, n_estimators=100;, score=0.761 total time=   1.2s\n",
      "[CV 3/3] END max_depth=5, max_features=0.5, n_estimators=100;, score=0.770 total time=   1.3s\n",
      "[CV 1/3] END max_depth=10, max_features=0.7000000000000001, n_estimators=300;, score=0.769 total time=   8.8s\n",
      "[CV 2/3] END max_depth=10, max_features=0.7000000000000001, n_estimators=300;, score=0.752 total time=   8.7s\n",
      "[CV 3/3] END max_depth=10, max_features=0.7000000000000001, n_estimators=300;, score=0.762 total time=   8.7s\n",
      "[CV 1/3] END max_depth=10, max_features=0.7000000000000001, n_estimators=400;, score=0.768 total time=  11.7s\n",
      "[CV 2/3] END max_depth=10, max_features=0.7000000000000001, n_estimators=400;, score=0.751 total time=  11.9s\n",
      "[CV 3/3] END max_depth=10, max_features=0.7000000000000001, n_estimators=400;, score=0.761 total time=  11.7s\n",
      "[CV 1/3] END max_depth=10, max_features=0.1, n_estimators=300;, score=0.769 total time=   2.1s\n",
      "[CV 2/3] END max_depth=10, max_features=0.1, n_estimators=300;, score=0.758 total time=   2.1s\n",
      "[CV 3/3] END max_depth=10, max_features=0.1, n_estimators=300;, score=0.768 total time=   2.2s\n",
      "[CV 1/3] END max_depth=10, max_features=0.4, n_estimators=100;, score=0.768 total time=   1.9s\n",
      "[CV 2/3] END max_depth=10, max_features=0.4, n_estimators=100;, score=0.752 total time=   1.8s\n",
      "[CV 3/3] END max_depth=10, max_features=0.4, n_estimators=100;, score=0.764 total time=   1.8s\n",
      "[CV 1/3] END max_depth=10, max_features=0.30000000000000004, n_estimators=400;, score=0.770 total time=   5.8s\n",
      "[CV 2/3] END max_depth=10, max_features=0.30000000000000004, n_estimators=400;, score=0.758 total time=   5.9s\n",
      "[CV 3/3] END max_depth=10, max_features=0.30000000000000004, n_estimators=400;, score=0.766 total time=   6.0s\n",
      "Random forest CV score\n",
      "[0.77145552 0.78062326 0.75734834 0.76010101 0.77138414]\n"
     ]
    }
   ],
   "source": [
    "rf = RandomForestClassifier()\n",
    "\n",
    "param_grid = {\n",
    "    'n_estimators': range(100, 500, 100),\n",
    "    'max_depth': range(5, 15, 5),\n",
    "    'max_features': np.arange(0.1, 0.9, 0.1)\n",
    "}\n",
    "cv = RandomizedSearchCV(\n",
    "    rf,\n",
    "    param_grid,\n",
    "    n_iter = 25,\n",
    "    cv = 3,\n",
    "    scoring='f1',\n",
    "    random_state = random_state,\n",
    "    verbose = 5\n",
    ")\n",
    "cv.fit(X_train_scaled, y_train)\n",
    "\n",
    "rf_best = cv.best_estimator_\n",
    "\n",
    "print('Random forest CV score')\n",
    "print(cross_val_score(rf_best, X_train_scaled, y_train, scoring='f1', cv=5))"
   ]
  },
  {
   "cell_type": "code",
   "execution_count": 23,
   "id": "ab3ead9a-7f22-488d-8fcf-12b2cb84b66d",
   "metadata": {
    "tags": []
   },
   "outputs": [
    {
     "data": {
      "image/png": "[encoded data removed]",
      "text/plain": [
       "<Figure size 432x288 with 1 Axes>"
      ]
     },
     "metadata": {
      "needs_background": "light"
     },
     "output_type": "display_data"
    }
   ],
   "source": [
    "imp = pd.Series(rf_best.feature_importances_,\n",
    "                index = X_train.columns)\n",
    "top15 = imp.sort_values(ascending=False)[:15]\n",
    "\n",
    "sns.barplot(x=top15, y=top15.index)\n",
    "plt.show()"
   ]
  },
  {
   "cell_type": "markdown",
   "id": "099a9d24-3c4a-42cb-9182-3d2625d5414c",
   "metadata": {},
   "source": [
    "## GradientBoosting"
   ]
  },
  {
   "cell_type": "code",
   "execution_count": 25,
   "id": "c2f641f2-bd10-4f9f-b3b8-3b96fcefcfed",
   "metadata": {
    "tags": []
   },
   "outputs": [
    {
     "name": "stdout",
     "output_type": "stream",
     "text": [
      "Fitting 3 folds for each of 25 candidates, totalling 75 fits\n",
      "[CV 1/3] END learning_rate=0.18999999999999997, max_depth=5, n_estimators=400;, score=0.741 total time=  15.0s\n",
      "[CV 2/3] END learning_rate=0.18999999999999997, max_depth=5, n_estimators=400;, score=0.727 total time=  14.7s\n",
      "[CV 3/3] END learning_rate=0.18999999999999997, max_depth=5, n_estimators=400;, score=0.750 total time=  14.7s\n",
      "[CV 1/3] END learning_rate=0.18999999999999997, max_depth=10, n_estimators=300;, score=0.740 total time=  24.6s\n",
      "[CV 2/3] END learning_rate=0.18999999999999997, max_depth=10, n_estimators=300;, score=0.725 total time=  24.9s\n",
      "[CV 3/3] END learning_rate=0.18999999999999997, max_depth=10, n_estimators=300;, score=0.739 total time=  25.0s\n",
      "[CV 1/3] END learning_rate=0.049999999999999996, max_depth=5, n_estimators=300;, score=0.762 total time=  11.1s\n",
      "[CV 2/3] END learning_rate=0.049999999999999996, max_depth=5, n_estimators=300;, score=0.743 total time=  11.0s\n",
      "[CV 3/3] END learning_rate=0.049999999999999996, max_depth=5, n_estimators=300;, score=0.755 total time=  11.3s\n",
      "[CV 1/3] END learning_rate=0.03, max_depth=10, n_estimators=300;, score=0.754 total time=  23.1s\n",
      "[CV 2/3] END learning_rate=0.03, max_depth=10, n_estimators=300;, score=0.737 total time=  23.1s\n",
      "[CV 3/3] END learning_rate=0.03, max_depth=10, n_estimators=300;, score=0.750 total time=  23.7s\n",
      "[CV 1/3] END learning_rate=0.08999999999999998, max_depth=5, n_estimators=100;, score=0.765 total time=   3.7s\n",
      "[CV 2/3] END learning_rate=0.08999999999999998, max_depth=5, n_estimators=100;, score=0.746 total time=   3.8s\n",
      "[CV 3/3] END learning_rate=0.08999999999999998, max_depth=5, n_estimators=100;, score=0.759 total time=   3.6s\n",
      "[CV 1/3] END learning_rate=0.049999999999999996, max_depth=10, n_estimators=300;, score=0.747 total time=  23.6s\n",
      "[CV 2/3] END learning_rate=0.049999999999999996, max_depth=10, n_estimators=300;, score=0.730 total time=  24.3s\n",
      "[CV 3/3] END learning_rate=0.049999999999999996, max_depth=10, n_estimators=300;, score=0.746 total time=  24.0s\n",
      "[CV 1/3] END learning_rate=0.01, max_depth=10, n_estimators=100;, score=0.739 total time=   6.7s\n",
      "[CV 2/3] END learning_rate=0.01, max_depth=10, n_estimators=100;, score=0.729 total time=   7.1s\n",
      "[CV 3/3] END learning_rate=0.01, max_depth=10, n_estimators=100;, score=0.738 total time=   7.2s\n",
      "[CV 1/3] END learning_rate=0.16999999999999998, max_depth=5, n_estimators=200;, score=0.752 total time=   7.9s\n",
      "[CV 2/3] END learning_rate=0.16999999999999998, max_depth=5, n_estimators=200;, score=0.735 total time=   7.4s\n",
      "[CV 3/3] END learning_rate=0.16999999999999998, max_depth=5, n_estimators=200;, score=0.752 total time=   7.7s\n",
      "[CV 1/3] END learning_rate=0.08999999999999998, max_depth=10, n_estimators=400;, score=0.741 total time=  32.8s\n",
      "[CV 2/3] END learning_rate=0.08999999999999998, max_depth=10, n_estimators=400;, score=0.726 total time=  32.4s\n",
      "[CV 3/3] END learning_rate=0.08999999999999998, max_depth=10, n_estimators=400;, score=0.740 total time=  32.8s\n",
      "[CV 1/3] END learning_rate=0.18999999999999997, max_depth=5, n_estimators=100;, score=0.754 total time=   3.8s\n",
      "[CV 2/3] END learning_rate=0.18999999999999997, max_depth=5, n_estimators=100;, score=0.740 total time=   3.6s\n",
      "[CV 3/3] END learning_rate=0.18999999999999997, max_depth=5, n_estimators=100;, score=0.755 total time=   3.7s\n",
      "[CV 1/3] END learning_rate=0.10999999999999997, max_depth=10, n_estimators=200;, score=0.740 total time=  16.2s\n",
      "[CV 2/3] END learning_rate=0.10999999999999997, max_depth=10, n_estimators=200;, score=0.731 total time=  16.1s\n",
      "[CV 3/3] END learning_rate=0.10999999999999997, max_depth=10, n_estimators=200;, score=0.749 total time=  16.1s\n",
      "[CV 1/3] END learning_rate=0.16999999999999998, max_depth=10, n_estimators=300;, score=0.742 total time=  24.9s\n",
      "[CV 2/3] END learning_rate=0.16999999999999998, max_depth=10, n_estimators=300;, score=0.726 total time=  25.1s\n",
      "[CV 3/3] END learning_rate=0.16999999999999998, max_depth=10, n_estimators=300;, score=0.741 total time=  24.6s\n",
      "[CV 1/3] END learning_rate=0.01, max_depth=10, n_estimators=400;, score=0.754 total time=  29.2s\n",
      "[CV 2/3] END learning_rate=0.01, max_depth=10, n_estimators=400;, score=0.741 total time=  29.4s\n",
      "[CV 3/3] END learning_rate=0.01, max_depth=10, n_estimators=400;, score=0.751 total time=  30.5s\n",
      "[CV 1/3] END learning_rate=0.06999999999999999, max_depth=5, n_estimators=300;, score=0.761 total time=  11.3s\n",
      "[CV 2/3] END learning_rate=0.06999999999999999, max_depth=5, n_estimators=300;, score=0.741 total time=  11.3s\n",
      "[CV 3/3] END learning_rate=0.06999999999999999, max_depth=5, n_estimators=300;, score=0.756 total time=  11.7s\n",
      "[CV 1/3] END learning_rate=0.12999999999999998, max_depth=5, n_estimators=400;, score=0.752 total time=  15.4s\n",
      "[CV 2/3] END learning_rate=0.12999999999999998, max_depth=5, n_estimators=400;, score=0.732 total time=  15.3s\n",
      "[CV 3/3] END learning_rate=0.12999999999999998, max_depth=5, n_estimators=400;, score=0.752 total time=  15.3s\n",
      "[CV 1/3] END learning_rate=0.18999999999999997, max_depth=10, n_estimators=200;, score=0.741 total time=  16.0s\n",
      "[CV 2/3] END learning_rate=0.18999999999999997, max_depth=10, n_estimators=200;, score=0.719 total time=  16.0s\n",
      "[CV 3/3] END learning_rate=0.18999999999999997, max_depth=10, n_estimators=200;, score=0.742 total time=  16.1s\n",
      "[CV 1/3] END learning_rate=0.10999999999999997, max_depth=5, n_estimators=100;, score=0.764 total time=   3.7s\n",
      "[CV 2/3] END learning_rate=0.10999999999999997, max_depth=5, n_estimators=100;, score=0.746 total time=   3.6s\n",
      "[CV 3/3] END learning_rate=0.10999999999999997, max_depth=5, n_estimators=100;, score=0.757 total time=   3.6s\n",
      "[CV 1/3] END learning_rate=0.06999999999999999, max_depth=5, n_estimators=100;, score=0.769 total time=   3.7s\n",
      "[CV 2/3] END learning_rate=0.06999999999999999, max_depth=5, n_estimators=100;, score=0.748 total time=   3.6s\n",
      "[CV 3/3] END learning_rate=0.06999999999999999, max_depth=5, n_estimators=100;, score=0.759 total time=   3.6s\n",
      "[CV 1/3] END learning_rate=0.15, max_depth=5, n_estimators=400;, score=0.749 total time=  15.2s\n",
      "[CV 2/3] END learning_rate=0.15, max_depth=5, n_estimators=400;, score=0.732 total time=  15.2s\n",
      "[CV 3/3] END learning_rate=0.15, max_depth=5, n_estimators=400;, score=0.751 total time=  15.4s\n",
      "[CV 1/3] END learning_rate=0.08999999999999998, max_depth=5, n_estimators=200;, score=0.762 total time=   7.4s\n",
      "[CV 2/3] END learning_rate=0.08999999999999998, max_depth=5, n_estimators=200;, score=0.743 total time=   7.5s\n",
      "[CV 3/3] END learning_rate=0.08999999999999998, max_depth=5, n_estimators=200;, score=0.757 total time=   7.5s\n",
      "[CV 1/3] END learning_rate=0.10999999999999997, max_depth=10, n_estimators=400;, score=0.740 total time=  32.9s\n",
      "[CV 2/3] END learning_rate=0.10999999999999997, max_depth=10, n_estimators=400;, score=0.728 total time=  32.7s\n",
      "[CV 3/3] END learning_rate=0.10999999999999997, max_depth=10, n_estimators=400;, score=0.742 total time=  32.4s\n",
      "[CV 1/3] END learning_rate=0.12999999999999998, max_depth=10, n_estimators=300;, score=0.737 total time=  24.1s\n",
      "[CV 2/3] END learning_rate=0.12999999999999998, max_depth=10, n_estimators=300;, score=0.728 total time=  25.6s\n",
      "[CV 3/3] END learning_rate=0.12999999999999998, max_depth=10, n_estimators=300;, score=0.746 total time=  24.4s\n",
      "[CV 1/3] END learning_rate=0.03, max_depth=5, n_estimators=400;, score=0.764 total time=  14.6s\n",
      "[CV 2/3] END learning_rate=0.03, max_depth=5, n_estimators=400;, score=0.746 total time=  14.5s\n",
      "[CV 3/3] END learning_rate=0.03, max_depth=5, n_estimators=400;, score=0.757 total time=  15.9s\n",
      "[CV 1/3] END learning_rate=0.06999999999999999, max_depth=10, n_estimators=300;, score=0.747 total time=  22.4s\n",
      "[CV 2/3] END learning_rate=0.06999999999999999, max_depth=10, n_estimators=300;, score=0.728 total time=  23.3s\n",
      "[CV 3/3] END learning_rate=0.06999999999999999, max_depth=10, n_estimators=300;, score=0.744 total time=  22.5s\n",
      "[CV 1/3] END learning_rate=0.03, max_depth=5, n_estimators=300;, score=0.767 total time=  10.2s\n",
      "[CV 2/3] END learning_rate=0.03, max_depth=5, n_estimators=300;, score=0.747 total time=  10.1s\n",
      "[CV 3/3] END learning_rate=0.03, max_depth=5, n_estimators=300;, score=0.759 total time=  10.3s\n",
      "Gradient boosting CV score\n",
      "[0.7606264  0.77308294 0.74665818 0.75056036 0.76202452]\n"
     ]
    }
   ],
   "source": [
    "gb = GradientBoostingClassifier()\n",
    "\n",
    "param_grid = {\n",
    "    'n_estimators': range(100, 500, 100),\n",
    "    'max_depth': range(5, 15,5),\n",
    "    'learning_rate': np.arange(0.01, 0.2, 0.02)\n",
    "}\n",
    "cv = RandomizedSearchCV(\n",
    "    gb,\n",
    "    param_grid,\n",
    "    n_iter = 25,\n",
    "    cv = 3,\n",
    "    scoring='f1',\n",
    "    random_state = random_state,\n",
    "    verbose = 5\n",
    ")\n",
    "cv.fit(X_train_scaled, y_train)\n",
    "\n",
    "gb_best = cv.best_estimator_\n",
    "\n",
    "print('Gradient boosting CV score')\n",
    "print(cross_val_score(gb_best, X_train_scaled, y_train, scoring='f1', cv=5))"
   ]
  },
  {
   "cell_type": "code",
   "execution_count": 37,
   "id": "ed763c96-397a-481c-9c3c-aa6119f89439",
   "metadata": {},
   "outputs": [
    {
     "data": {
      "image/png": "[encoded data removed]",
      "text/plain": [
       "<Figure size 432x288 with 1 Axes>"
      ]
     },
     "metadata": {
      "needs_background": "light"
     },
     "output_type": "display_data"
    }
   ],
   "source": [
    "imp = pd.Series(gb_best.feature_importances_,\n",
    "                index = X_train.columns)\n",
    "top15 = imp.sort_values(ascending=False)[:15]\n",
    "\n",
    "sns.barplot(x=top15, y=top15.index)\n",
    "plt.show()"
   ]
  },
  {
   "cell_type": "markdown",
   "id": "3338c6c2-f421-498e-a764-39b0ca5a9593",
   "metadata": {},
   "source": [
    "## logistic regression"
   ]
  },
  {
   "cell_type": "code",
   "execution_count": 30,
   "id": "2af23852-94cf-4a2e-8ef4-7d500708d6c1",
   "metadata": {},
   "outputs": [
    {
     "name": "stderr",
     "output_type": "stream",
     "text": [
      "C:\\Users\\jhoonpark\\Anaconda3\\lib\\site-packages\\sklearn\\linear_model\\_logistic.py:763: ConvergenceWarning: lbfgs failed to converge (status=1):\n",
      "STOP: TOTAL NO. of ITERATIONS REACHED LIMIT.\n",
      "\n",
      "Increase the number of iterations (max_iter) or scale the data as shown in:\n",
      "    https://scikit-learn.org/stable/modules/preprocessing.html\n",
      "Please also refer to the documentation for alternative solver options:\n",
      "    https://scikit-learn.org/stable/modules/linear_model.html#logistic-regression\n",
      "  n_iter_i = _check_optimize_result(\n",
      "C:\\Users\\jhoonpark\\Anaconda3\\lib\\site-packages\\sklearn\\linear_model\\_logistic.py:763: ConvergenceWarning: lbfgs failed to converge (status=1):\n",
      "STOP: TOTAL NO. of ITERATIONS REACHED LIMIT.\n",
      "\n",
      "Increase the number of iterations (max_iter) or scale the data as shown in:\n",
      "    https://scikit-learn.org/stable/modules/preprocessing.html\n",
      "Please also refer to the documentation for alternative solver options:\n",
      "    https://scikit-learn.org/stable/modules/linear_model.html#logistic-regression\n",
      "  n_iter_i = _check_optimize_result(\n",
      "C:\\Users\\jhoonpark\\Anaconda3\\lib\\site-packages\\sklearn\\linear_model\\_logistic.py:763: ConvergenceWarning: lbfgs failed to converge (status=1):\n",
      "STOP: TOTAL NO. of ITERATIONS REACHED LIMIT.\n",
      "\n",
      "Increase the number of iterations (max_iter) or scale the data as shown in:\n",
      "    https://scikit-learn.org/stable/modules/preprocessing.html\n",
      "Please also refer to the documentation for alternative solver options:\n",
      "    https://scikit-learn.org/stable/modules/linear_model.html#logistic-regression\n",
      "  n_iter_i = _check_optimize_result(\n"
     ]
    },
    {
     "name": "stdout",
     "output_type": "stream",
     "text": [
      "35\n",
      "[[ 4.98406149e-02  4.30688835e-04 -7.59362294e-02  7.84897754e-02\n",
      "   2.25969086e-01 -3.53240946e-01  7.18301190e-01 -3.57160009e-01\n",
      "   1.07985717e+00  1.07985717e+00  7.75536197e-03  1.74613542e-02\n",
      "  -4.84820577e-03  4.21703878e-03 -4.83332136e-02 -3.92465857e-02\n",
      "  -3.30248811e-02 -4.98598847e-02 -2.83339906e-01 -3.48570148e-01\n",
      "  -3.74827814e-01 -3.63504775e-01 -3.62552561e-01 -3.51247801e-01\n",
      "  -3.49411685e-01 -2.98266521e-01 -2.30734272e-01 -1.41846866e-01\n",
      "  -3.36258824e-02  8.25280224e-02  6.88855321e-03 -1.50176776e-02\n",
      "  -8.36327694e-03  3.70593010e-03  9.72654822e-03]]\n",
      "Logistic Regression CV score\n",
      "[0.58444444 0.61722222 0.58532518 0.5975542  0.6131184 ]\n"
     ]
    },
    {
     "name": "stderr",
     "output_type": "stream",
     "text": [
      "C:\\Users\\jhoonpark\\Anaconda3\\lib\\site-packages\\sklearn\\linear_model\\_logistic.py:763: ConvergenceWarning: lbfgs failed to converge (status=1):\n",
      "STOP: TOTAL NO. of ITERATIONS REACHED LIMIT.\n",
      "\n",
      "Increase the number of iterations (max_iter) or scale the data as shown in:\n",
      "    https://scikit-learn.org/stable/modules/preprocessing.html\n",
      "Please also refer to the documentation for alternative solver options:\n",
      "    https://scikit-learn.org/stable/modules/linear_model.html#logistic-regression\n",
      "  n_iter_i = _check_optimize_result(\n"
     ]
    }
   ],
   "source": [
    "lr = LogisticRegression()\n",
    "lr.fit(X_train_scaled, y_train)\n",
    "\n",
    "print(lr.n_features_in_)\n",
    "print(lr.coef_)\n",
    "\n",
    "print('Logistic Regression CV score')\n",
    "print(cross_val_score(lr, X_train_scaled, y_train, scoring='recall', cv=5))"
   ]
  },
  {
   "cell_type": "markdown",
   "id": "e23a512d-0aa8-4237-b1eb-efe77a043d8e",
   "metadata": {},
   "source": [
    "## ensemble"
   ]
  },
  {
   "cell_type": "code",
   "execution_count": 41,
   "id": "759d6940-82f0-4bb6-bbfc-41f240973344",
   "metadata": {},
   "outputs": [
    {
     "name": "stdout",
     "output_type": "stream",
     "text": [
      "Voting classifier CV score\n",
      "[0.64       0.67       0.63979989 0.64202335 0.66092273]\n"
     ]
    }
   ],
   "source": [
    "vote = VotingClassifier(\n",
    "    estimators=[\n",
    "        ('lr', lr),\n",
    "        ('rf', rf_best),\n",
    "        ('gb', gb_best)\n",
    "    ],\n",
    "    voting='soft'\n",
    ")\n",
    "vote.fit(X_train_scaled, y_train)\n",
    "\n",
    "print('Voting classifier CV score')\n",
    "print(cross_val_score(vote, X_train_scaled, y_train, scoring='recall', cv=5))"
   ]
  },
  {
   "cell_type": "code",
   "execution_count": 42,
   "id": "bbce6201-a071-43d6-bd38-b77c23d84886",
   "metadata": {},
   "outputs": [
    {
     "name": "stdout",
     "output_type": "stream",
     "text": [
      "Voting classifier CV score\n",
      "[0.67777778 0.69388889 0.66759311 0.66592551 0.68315731]\n"
     ]
    }
   ],
   "source": [
    "vote = VotingClassifier(\n",
    "    estimators=[\n",
    "        # ('lr', lr),\n",
    "        ('rf', rf_best),\n",
    "        ('gb', gb_best)\n",
    "    ],\n",
    "    voting='soft'\n",
    ")\n",
    "vote.fit(X_train_scaled, y_train)\n",
    "\n",
    "print('Voting classifier CV score')\n",
    "print(cross_val_score(vote, X_train_scaled, y_train, scoring='recall', cv=5))"
   ]
  },
  {
   "cell_type": "code",
   "execution_count": null,
   "id": "3071ee64-9116-47c7-9683-a366b16cf110",
   "metadata": {},
   "outputs": [],
   "source": []
  },
  {
   "cell_type": "code",
   "execution_count": null,
   "id": "a348f000-db36-4d76-93d4-728ed7287ce7",
   "metadata": {},
   "outputs": [],
   "source": []
  },
  {
   "cell_type": "code",
   "execution_count": null,
   "id": "01d7a493-500b-4e2e-85c5-481448a7d238",
   "metadata": {},
   "outputs": [],
   "source": []
  },
  {
   "cell_type": "code",
   "execution_count": null,
   "id": "eac2f620-2b6c-4c9e-abc4-729ec08b8e85",
   "metadata": {},
   "outputs": [],
   "source": []
  },
  {
   "cell_type": "code",
   "execution_count": null,
   "id": "0c2a8f3d-cda8-437a-b7fe-841a909a9dbb",
   "metadata": {},
   "outputs": [],
   "source": []
  },
  {
   "cell_type": "code",
   "execution_count": null,
   "id": "c61d60bc-f698-45be-9b31-7236065ca615",
   "metadata": {},
   "outputs": [],
   "source": []
  },
  {
   "cell_type": "code",
   "execution_count": null,
   "id": "90e10f53-89b0-4541-8ae2-540653df3b39",
   "metadata": {},
   "outputs": [],
   "source": []
  },
  {
   "cell_type": "code",
   "execution_count": null,
   "id": "e826a08a-c77f-4f1c-955c-3147d21d4311",
   "metadata": {},
   "outputs": [],
   "source": []
  },
  {
   "cell_type": "code",
   "execution_count": null,
   "id": "69072902-8e6f-4a6a-8fe4-d80f23375f3c",
   "metadata": {},
   "outputs": [],
   "source": []
  },
  {
   "cell_type": "code",
   "execution_count": null,
   "id": "a7e6a924-1beb-464e-9ffa-c3731efbf663",
   "metadata": {},
   "outputs": [],
   "source": []
  },
  {
   "cell_type": "code",
   "execution_count": null,
   "id": "d591ab62-78a8-4856-8ed5-b842f6d9a432",
   "metadata": {},
   "outputs": [],
   "source": []
  }
 ],
 "metadata": {
  "kernelspec": {
   "display_name": "Python 3 (ipykernel)",
   "language": "python",
   "name": "python3"
  },
  "language_info": {
   "codemirror_mode": {
    "name": "ipython",
    "version": 3
   },
   "file_extension": ".py",
   "mimetype": "text/x-python",
   "name": "python",
   "nbconvert_exporter": "python",
   "pygments_lexer": "ipython3",
   "version": "3.9.7"
  }
 },
 "nbformat": 4,
 "nbformat_minor": 5
}
